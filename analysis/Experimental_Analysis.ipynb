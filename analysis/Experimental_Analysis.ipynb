{
 "cells": [
  {
   "cell_type": "markdown",
   "metadata": {},
   "source": [
    "# Experimental Analysis\n",
    "This is an analysis of data collected for all experiments and batches."
   ]
  },
  {
   "cell_type": "code",
   "execution_count": 1,
   "metadata": {},
   "outputs": [],
   "source": [
    "import numpy as np\n",
    "import pandas as pd\n",
    "import matplotlib\n",
    "import matplotlib.pyplot as plt\n",
    "import os\n",
    "\n",
    "# personal libraries\n",
    "from data_utils import *\n",
    "from data_viz import *\n",
    "import wallet\n",
    "\n",
    "url = None\n",
    "key = None\n",
    "from private_variables import *    # contains url, key variables (empty if not connecting to MOOClet)"
   ]
  },
  {
   "cell_type": "code",
   "execution_count": 2,
   "metadata": {},
   "outputs": [],
   "source": [
    "batch_num = {'hm_bl': [2101, 2102],\n",
    "             'proto_bl': [3101, 3102],\n",
    "             'hm_exp': [2001, 2002, 2003],\n",
    "             'proto_exp': [3001, 3002],\n",
    "             'multi_bl': [4000],\n",
    "             'multi_exp': [4001]\n",
    "             }\n",
    "batch_data_dir = \"batch_data\"\n",
    "\n",
    "mooclet_id = {'hm': 4, 'proto': 5, 'multi': 6}\n",
    "\n",
    "load_data = True\n",
    "num_iter = 6\n",
    "include_testerbot = False\n",
    "fig_save_dir = \"./figures/\"\n"
   ]
  },
  {
   "cell_type": "code",
   "execution_count": 3,
   "metadata": {},
   "outputs": [],
   "source": [
    "report_filename = \"report.txt\"\n",
    "\n",
    "report_file = open(report_filename,'w')\n",
    "report_file.close()"
   ]
  },
  {
   "cell_type": "markdown",
   "metadata": {},
   "source": [
    "# Data Processing\n",
    "We first obtain the batch data from our server (or load from stored files).  We also create the metric `sim_score_norm` by subtracting each `sim_score` by the score of the initial iteration (baseline)."
   ]
  },
  {
   "cell_type": "code",
   "execution_count": 4,
   "metadata": {},
   "outputs": [],
   "source": [
    "# Heatmap Baseline\n",
    "hm_bl_batch = Batch(url, \n",
    "                 key, \n",
    "                 num_iter=num_iter, \n",
    "                 mooclet=mooclet_id['hm'], \n",
    "                 mturk_batch = batch_num['hm_bl'], \n",
    "                 include_testerbot=include_testerbot)\n",
    "if load_data:\n",
    "    hm_bl_batch.load_data(batch_data_dir+\"/hm_bl_data.json\")\n",
    "    hm_bl_batch.load_learner_ids(batch_data_dir+\"/hm_bl_learner_ids.json\")\n",
    "    hm_bl_batch.load_actions(batch_data_dir+\"/hm_bl_actions.json\")\n",
    "else:\n",
    "    hm_bl_batch.get_data()\n",
    "hm_bl_batch.normalize_values(variables=['sim_score'], baseline_iter_num=1)\n",
    "\n",
    "# Heatmap RBP\n",
    "hm_exp_batch = Batch(url, \n",
    "                 key, \n",
    "                 num_iter=num_iter, \n",
    "                 mooclet=mooclet_id['hm'], \n",
    "                 mturk_batch = batch_num['hm_exp'], \n",
    "                 include_testerbot=include_testerbot)\n",
    "if load_data:\n",
    "    hm_exp_batch.load_data(batch_data_dir+\"/hm_exp_data.json\")\n",
    "    hm_exp_batch.load_learner_ids(batch_data_dir+\"/hm_exp_learner_ids.json\")\n",
    "    hm_exp_batch.load_actions(batch_data_dir+\"/hm_exp_actions.json\")\n",
    "else:\n",
    "    hm_exp_batch.get_data()\n",
    "hm_exp_batch.normalize_values(variables=['sim_score'], baseline_iter_num=1)\n",
    "\n",
    "# Prototype Baseline\n",
    "proto_bl_batch = Batch(url, \n",
    "                 key, \n",
    "                 num_iter=num_iter, \n",
    "                 mooclet=mooclet_id['proto'], \n",
    "                 mturk_batch = batch_num['proto_bl'], \n",
    "                 include_testerbot=include_testerbot)\n",
    "if load_data:\n",
    "    proto_bl_batch.load_data(batch_data_dir+\"/proto_bl_data.json\")\n",
    "    proto_bl_batch.load_learner_ids(batch_data_dir+\"/proto_bl_learner_ids.json\")\n",
    "    proto_bl_batch.load_actions(batch_data_dir+\"/proto_bl_actions.json\")\n",
    "else:\n",
    "    proto_bl_batch.get_data()\n",
    "proto_bl_batch.normalize_values(variables=['sim_score'], baseline_iter_num=1)\n",
    "\n",
    "# Prototype RBP\n",
    "proto_exp_batch = Batch(url, \n",
    "                 key, \n",
    "                 num_iter=num_iter, \n",
    "                 mooclet=mooclet_id['proto'], \n",
    "                 mturk_batch = batch_num['proto_exp'], \n",
    "                 include_testerbot=include_testerbot)\n",
    "if load_data:\n",
    "    proto_exp_batch.load_data(batch_data_dir+\"/proto_exp_data.json\")\n",
    "    proto_exp_batch.load_learner_ids(batch_data_dir+\"/proto_exp_learner_ids.json\")\n",
    "    proto_exp_batch.load_actions(batch_data_dir+\"/proto_exp_actions.json\")\n",
    "else:\n",
    "    proto_exp_batch.get_data()\n",
    "proto_exp_batch.normalize_values(variables=['sim_score'], baseline_iter_num=1)\n",
    "\n",
    "# Multi Baseline\n",
    "multi_bl_batch = Batch(url, \n",
    "                 key, \n",
    "                 num_iter=num_iter, \n",
    "                 mooclet=mooclet_id['multi'], \n",
    "                 mturk_batch = batch_num['multi_bl'], \n",
    "                 include_testerbot=include_testerbot)\n",
    "if load_data:\n",
    "    multi_bl_batch.load_data(batch_data_dir+\"/multi_bl_data.json\")\n",
    "    multi_bl_batch.load_learner_ids(batch_data_dir+\"/multi_bl_learner_ids.json\")\n",
    "    multi_bl_batch.load_actions(batch_data_dir+\"/multi_bl_actions.json\")\n",
    "else:\n",
    "    multi_bl_batch.get_data()\n",
    "multi_bl_batch.normalize_values(variables=['sim_score'], baseline_iter_num=1)\n",
    "\n",
    "\n",
    "# Prototype RBP\n",
    "multi_exp_batch = Batch(url, \n",
    "                 key, \n",
    "                 num_iter=num_iter, \n",
    "                 mooclet=mooclet_id['multi'], \n",
    "                 mturk_batch = batch_num['multi_exp'], \n",
    "                 include_testerbot=include_testerbot)\n",
    "if load_data:\n",
    "    multi_exp_batch.load_data(batch_data_dir+\"/multi_exp_data.json\")\n",
    "    multi_exp_batch.load_learner_ids(batch_data_dir+\"/multi_exp_learner_ids.json\")\n",
    "    multi_exp_batch.load_actions(batch_data_dir+\"/multi_exp_actions.json\")\n",
    "else:\n",
    "    multi_exp_batch.get_data()\n",
    "multi_exp_batch.normalize_values(variables=['sim_score'], baseline_iter_num=1)\n"
   ]
  },
  {
   "cell_type": "code",
   "execution_count": 5,
   "metadata": {},
   "outputs": [],
   "source": [
    "batches = {}\n",
    "batches['hm_bl'] = hm_bl_batch\n",
    "batches['hm_exp'] = hm_exp_batch\n",
    "batches['proto_bl'] = proto_bl_batch\n",
    "batches['proto_exp'] = proto_exp_batch\n",
    "batches['multi_bl'] = multi_bl_batch\n",
    "batches['multi_exp'] = multi_exp_batch"
   ]
  },
  {
   "cell_type": "markdown",
   "metadata": {},
   "source": [
    "We save the data for each batch as .json files."
   ]
  },
  {
   "cell_type": "code",
   "execution_count": 6,
   "metadata": {},
   "outputs": [],
   "source": [
    "if load_data is False:\n",
    "    if not os.path.exists(batch_data_dir):\n",
    "        os.makedirs(batch_data_dir)\n",
    "    for batch in [\"multi_bl\", \"multi_exp\"]:\n",
    "        batches[batch].save_data(batch_data_dir+\"/\"+batch+\"_data.json\")\n",
    "        batches[batch].save_learner_ids(batch_data_dir+\"/\"+batch+\"_learner_ids.json\")"
   ]
  },
  {
   "cell_type": "markdown",
   "metadata": {},
   "source": [
    "We now group each set of batches into experiments.  The following experiments are available:\n",
    "- Saliency Maps: random policy (baseline) v. rule-based policy\n",
    "- Prototypes: random policy (baseline) v. rule-based policy\n",
    "- Saliency Maps and Prototypes: random policy (baseline) v. rule-based policy"
   ]
  },
  {
   "cell_type": "code",
   "execution_count": 7,
   "metadata": {},
   "outputs": [],
   "source": [
    "experiments = {}\n",
    "experiments['hm'] = Experiment(hm_bl_batch, hm_exp_batch)\n",
    "experiments['proto'] = Experiment(proto_bl_batch, proto_exp_batch)\n",
    "experiments['multi'] = Experiment(multi_bl_batch, multi_exp_batch)\n",
    "#experiments['bl'] = Experiment(hm_bl_batch, proto_bl_batch)\n",
    "#experiments['exp'] = Experiment(hm_exp_batch, proto_exp_batch)"
   ]
  },
  {
   "cell_type": "markdown",
   "metadata": {},
   "source": [
    "## Participant Information\n",
    "We look at measures of the progress of our population:\n",
    "- how many were flagged as bots\n",
    "- how many completed and passed pre-assessment\n",
    "- how many participated in the study"
   ]
  },
  {
   "cell_type": "code",
   "execution_count": 8,
   "metadata": {},
   "outputs": [
    {
     "data": {
      "text/plain": [
       "'hm_bl'"
      ]
     },
     "metadata": {},
     "output_type": "display_data"
    },
    {
     "data": {
      "text/plain": [
       "'hm_exp'"
      ]
     },
     "metadata": {},
     "output_type": "display_data"
    },
    {
     "data": {
      "text/plain": [
       "'proto_bl'"
      ]
     },
     "metadata": {},
     "output_type": "display_data"
    },
    {
     "data": {
      "text/plain": [
       "'proto_exp'"
      ]
     },
     "metadata": {},
     "output_type": "display_data"
    },
    {
     "data": {
      "text/plain": [
       "'multi_bl'"
      ]
     },
     "metadata": {},
     "output_type": "display_data"
    },
    {
     "data": {
      "text/plain": [
       "'multi_exp'"
      ]
     },
     "metadata": {},
     "output_type": "display_data"
    },
    {
     "data": {
      "image/png": "[encoded data removed]",
      "text/plain": [
       "<Figure size 432x288 with 1 Axes>"
      ]
     },
     "metadata": {
      "needs_background": "light"
     },
     "output_type": "display_data"
    }
   ],
   "source": [
    "participation = {}\n",
    "for batch in batches:\n",
    "    display(batch)\n",
    "    participation[batch] = []\n",
    "    bot_count, bot_dict = batches[batch].count_bots()\n",
    "    # display(\"We found \"+str(bot_count)+\" learners who have been flagged as bots.\")\n",
    "    \n",
    "    pa_count, _, pa_dict = batches[batch].count_progress(\"pa\")\n",
    "    # display(\"We found \"+str(pa_count)+\" learners who have completed the pre-assessment.\")\n",
    "    \n",
    "    passed_count = 0\n",
    "    for learner in pa_dict:\n",
    "        if pa_dict[learner]['pre_assess_score']['value'] >= 3.0:\n",
    "            passed_count += 1\n",
    "    # display(str(passed_count)+\" out of \"+str(pa_count)+\" learners received a score of 3.0 or higher.\")\n",
    "    \n",
    "    for i in range(1, 6+1):\n",
    "        iter_count, _, _ = batches[batch].count_progress(i)\n",
    "        participation[batch].append(iter_count)\n",
    "\n",
    "participation = pd.DataFrame.from_dict(participation)\n",
    "ax = participation.plot.line()\n",
    "\n",
    "ax.set_ylim(0, 100)\n",
    "ax.set_ylabel(\"# of Participants\")\n",
    "ax.set_xlabel(\"Iteration #\")\n",
    "\n",
    "L=plt.legend()\n",
    "labels = ['SM - Baseline', 'SM - Policy', 'Proto - Baseline', 'Proto - Policy', \\\n",
    "                                    'Combined - Baseline', 'Combined - Policy']\n",
    "ax.legend(labels=labels, loc='lower left', fontsize='small')\n",
    "\n",
    "if not os.path.exists(fig_save_dir):\n",
    "    os.makedirs(fig_save_dir)\n",
    "plt.savefig(fig_save_dir+\"participation.png\", format=\"png\", dpi=1200, bbox_inches=\"tight\")"
   ]
  },
  {
   "cell_type": "markdown",
   "metadata": {},
   "source": [
    "## Simulatability Score\n",
    "We analyse how the simulatability score changes for each batch and for each iteration."
   ]
  },
  {
   "cell_type": "markdown",
   "metadata": {},
   "source": [
    "### Comparison of Baseline and Experimental Simulatability Score\n",
    "We compare the mean simulatability score `sim_score` for each iteration for both the baseline and experimental batches.  To account for expertise variance between different participant groups (e.g., participants in one batch may perform better than participants in another batch), we also compare `sim_score_norm`.  \n",
    "\n",
    "We set the error bars to represent standard error."
   ]
  },
  {
   "cell_type": "code",
   "execution_count": 9,
   "metadata": {},
   "outputs": [
    {
     "data": {
      "text/plain": [
       "'Experiment: hm'"
      ]
     },
     "metadata": {},
     "output_type": "display_data"
    },
    {
     "data": {
      "image/png": "[encoded data removed]",
      "text/plain": [
       "<Figure size 432x288 with 1 Axes>"
      ]
     },
     "metadata": {
      "needs_background": "light"
     },
     "output_type": "display_data"
    },
    {
     "data": {
      "text/plain": [
       "'Experiment: proto'"
      ]
     },
     "metadata": {},
     "output_type": "display_data"
    },
    {
     "data": {
      "image/png": "[encoded data removed]",
      "text/plain": [
       "<Figure size 432x288 with 1 Axes>"
      ]
     },
     "metadata": {
      "needs_background": "light"
     },
     "output_type": "display_data"
    },
    {
     "data": {
      "text/plain": [
       "'Experiment: multi'"
      ]
     },
     "metadata": {},
     "output_type": "display_data"
    },
    {
     "data": {
      "image/png": "[encoded data removed]",
      "text/plain": [
       "<Figure size 432x288 with 1 Axes>"
      ]
     },
     "metadata": {
      "needs_background": "light"
     },
     "output_type": "display_data"
    }
   ],
   "source": [
    "sim_scores = {}\n",
    "for experiment in experiments:\n",
    "    display(\"Experiment: \"+str(experiment))\n",
    "    sim_scores[experiment] = experiments[experiment].compare_scores_per_iter('sim_score', err='se')\n",
    "    plt.show()"
   ]
  },
  {
   "cell_type": "code",
   "execution_count": 10,
   "metadata": {},
   "outputs": [
    {
     "data": {
      "text/plain": [
       "'Experiment: hm'"
      ]
     },
     "metadata": {},
     "output_type": "display_data"
    },
    {
     "name": "stderr",
     "output_type": "stream",
     "text": [
      "C:\\Users\\Arnold\\Documents\\University of Toronto\\Thesis\\Release\\analysis\\data_viz.py:31: RuntimeWarning: invalid value encountered in true_divide\n",
      "  d = abs(mean[0] - mean[1]) / pooled_std\n"
     ]
    },
    {
     "data": {
      "image/png": "[encoded data removed]",
      "text/plain": [
       "<Figure size 432x288 with 1 Axes>"
      ]
     },
     "metadata": {
      "needs_background": "light"
     },
     "output_type": "display_data"
    },
    {
     "data": {
      "text/plain": [
       "'Experiment: proto'"
      ]
     },
     "metadata": {},
     "output_type": "display_data"
    },
    {
     "name": "stderr",
     "output_type": "stream",
     "text": [
      "C:\\Users\\Arnold\\Documents\\University of Toronto\\Thesis\\Release\\analysis\\data_viz.py:31: RuntimeWarning: invalid value encountered in true_divide\n",
      "  d = abs(mean[0] - mean[1]) / pooled_std\n"
     ]
    },
    {
     "data": {
      "image/png": "[encoded data removed]",
      "text/plain": [
       "<Figure size 432x288 with 1 Axes>"
      ]
     },
     "metadata": {
      "needs_background": "light"
     },
     "output_type": "display_data"
    },
    {
     "data": {
      "text/plain": [
       "'Experiment: multi'"
      ]
     },
     "metadata": {},
     "output_type": "display_data"
    },
    {
     "name": "stderr",
     "output_type": "stream",
     "text": [
      "C:\\Users\\Arnold\\Documents\\University of Toronto\\Thesis\\Release\\analysis\\data_viz.py:31: RuntimeWarning: invalid value encountered in true_divide\n",
      "  d = abs(mean[0] - mean[1]) / pooled_std\n"
     ]
    },
    {
     "data": {
      "image/png": "[encoded data removed]",
      "text/plain": [
       "<Figure size 432x288 with 1 Axes>"
      ]
     },
     "metadata": {
      "needs_background": "light"
     },
     "output_type": "display_data"
    }
   ],
   "source": [
    "sim_scores_norm = {}\n",
    "for experiment in experiments:\n",
    "    display(\"Experiment: \"+str(experiment))\n",
    "    sim_scores_norm[experiment] = experiments[experiment].compare_scores_per_iter('sim_score_norm', err='se')\n",
    "    plt.show()"
   ]
  },
  {
   "cell_type": "markdown",
   "metadata": {},
   "source": [
    "### Effect Size Across Iterations"
   ]
  },
  {
   "cell_type": "markdown",
   "metadata": {},
   "source": [
    "We calculate the difference between batches and iterations using the Cohen's d effect size.\n",
    "Firstly, we calculate the effect size of each iteration, relative to the initial iteration (baseline)."
   ]
  },
  {
   "cell_type": "code",
   "execution_count": 11,
   "metadata": {},
   "outputs": [
    {
     "name": "stdout",
     "output_type": "stream",
     "text": [
      "Iteration: 1   Mean: -13.753012048192774   StD: 23.811338441547168   Count: 83\n",
      "Iteration: 2   Mean: -4.915384615384617   StD: 25.87041170523194   Count: 78\n",
      "Iteration: 1   Mean: -10.406249999999998   StD: 25.061748268343585   Count: 80\n",
      "Iteration: 2   Mean: 0.20641025641025765   StD: 25.412985430775905   Count: 78\n",
      "Iteration: 1   Mean: -13.753012048192774   StD: 23.811338441547168   Count: 83\n",
      "Iteration: 3   Mean: -0.7702702702702705   StD: 27.973836747784645   Count: 74\n",
      "Iteration: 1   Mean: -10.406249999999998   StD: 25.061748268343585   Count: 80\n",
      "Iteration: 3   Mean: 0.550649350649351   StD: 26.463324289807826   Count: 77\n",
      "Iteration: 1   Mean: -13.753012048192774   StD: 23.811338441547168   Count: 83\n",
      "Iteration: 4   Mean: -2.236111111111112   StD: 24.33932831804107   Count: 72\n",
      "Iteration: 1   Mean: -10.406249999999998   StD: 25.061748268343585   Count: 80\n",
      "Iteration: 4   Mean: 6.002739726027397   StD: 28.25444396021202   Count: 73\n",
      "Iteration: 1   Mean: -13.753012048192774   StD: 23.811338441547168   Count: 83\n",
      "Iteration: 5   Mean: -4.884285714285714   StD: 26.407528766799786   Count: 70\n",
      "Iteration: 1   Mean: -10.406249999999998   StD: 25.061748268343585   Count: 80\n",
      "Iteration: 5   Mean: 4.366197183098591   StD: 34.229848894378605   Count: 71\n",
      "Iteration: 1   Mean: -13.753012048192774   StD: 23.811338441547168   Count: 83\n",
      "Iteration: 6   Mean: -5.84558823529412   StD: 29.856684712755275   Count: 68\n",
      "Iteration: 1   Mean: -10.406249999999998   StD: 25.061748268343585   Count: 80\n",
      "Iteration: 6   Mean: 0.8492753623188412   StD: 29.834472871596063   Count: 69\n"
     ]
    },
    {
     "data": {
      "image/png": "[encoded data removed]",
      "text/plain": [
       "<Figure size 432x288 with 1 Axes>"
      ]
     },
     "metadata": {
      "needs_background": "light"
     },
     "output_type": "display_data"
    },
    {
     "name": "stdout",
     "output_type": "stream",
     "text": [
      "Iteration: 1   Mean: -13.033333333333331   StD: 21.041762226005634   Count: 78\n",
      "Iteration: 2   Mean: -5.447761194029852   StD: 26.12958011589579   Count: 67\n",
      "Iteration: 1   Mean: -14.951219512195125   StD: 21.23769211556811   Count: 82\n",
      "Iteration: 2   Mean: -1.8726027397260272   StD: 23.496709345695695   Count: 73\n",
      "Iteration: 1   Mean: -13.033333333333331   StD: 21.041762226005634   Count: 78\n",
      "Iteration: 3   Mean: -0.05333333333333374   StD: 25.151860575223463   Count: 60\n",
      "Iteration: 1   Mean: -14.951219512195125   StD: 21.23769211556811   Count: 82\n",
      "Iteration: 3   Mean: 1.2942028985507248   StD: 24.073685194431278   Count: 69\n",
      "Iteration: 1   Mean: -13.033333333333331   StD: 21.041762226005634   Count: 78\n",
      "Iteration: 4   Mean: 1.2017241379310344   StD: 25.775205625666153   Count: 58\n",
      "Iteration: 1   Mean: -14.951219512195125   StD: 21.23769211556811   Count: 82\n",
      "Iteration: 4   Mean: 0.9507462686567166   StD: 26.409085747914595   Count: 67\n",
      "Iteration: 1   Mean: -13.033333333333331   StD: 21.041762226005634   Count: 78\n",
      "Iteration: 5   Mean: -1.8490566037735852   StD: 28.447398303653962   Count: 53\n",
      "Iteration: 1   Mean: -14.951219512195125   StD: 21.23769211556811   Count: 82\n",
      "Iteration: 5   Mean: 5.893548387096773   StD: 27.75472118141841   Count: 62\n",
      "Iteration: 1   Mean: -13.033333333333331   StD: 21.041762226005634   Count: 78\n",
      "Iteration: 6   Mean: -2.8698113207547173   StD: 27.98908155874674   Count: 53\n",
      "Iteration: 1   Mean: -14.951219512195125   StD: 21.23769211556811   Count: 82\n",
      "Iteration: 6   Mean: 1.2813559322033885   StD: 27.449197429233863   Count: 59\n"
     ]
    },
    {
     "data": {
      "image/png": "[encoded data removed]",
      "text/plain": [
       "<Figure size 432x288 with 1 Axes>"
      ]
     },
     "metadata": {
      "needs_background": "light"
     },
     "output_type": "display_data"
    },
    {
     "name": "stdout",
     "output_type": "stream",
     "text": [
      "Iteration: 1   Mean: -11.840000000000002   StD: 25.184302556118066   Count: 85\n",
      "Iteration: 2   Mean: -4.348192771084337   StD: 26.465234265784872   Count: 83\n",
      "Iteration: 1   Mean: -12.532500000000002   StD: 23.042210990739846   Count: 80\n",
      "Iteration: 2   Mean: -4.289473684210527   StD: 27.031747157480677   Count: 76\n",
      "Iteration: 1   Mean: -11.840000000000002   StD: 25.184302556118066   Count: 85\n",
      "Iteration: 3   Mean: -3.8200000000000016   StD: 28.810227163095906   Count: 75\n",
      "Iteration: 1   Mean: -12.532500000000002   StD: 23.042210990739846   Count: 80\n",
      "Iteration: 3   Mean: 0.41714285714285726   StD: 31.336129869476334   Count: 70\n",
      "Iteration: 1   Mean: -11.840000000000002   StD: 25.184302556118066   Count: 85\n",
      "Iteration: 4   Mean: -0.6147058823529412   StD: 32.31806141992515   Count: 68\n",
      "Iteration: 1   Mean: -12.532500000000002   StD: 23.042210990739846   Count: 80\n",
      "Iteration: 4   Mean: -2.980882352941176   StD: 25.695781971952748   Count: 68\n",
      "Iteration: 1   Mean: -11.840000000000002   StD: 25.184302556118066   Count: 85\n",
      "Iteration: 5   Mean: -2.4000000000000004   StD: 30.793151540856968   Count: 67\n",
      "Iteration: 1   Mean: -12.532500000000002   StD: 23.042210990739846   Count: 80\n",
      "Iteration: 5   Mean: 0.9268656716417911   StD: 26.79093911782519   Count: 67\n",
      "Iteration: 1   Mean: -11.840000000000002   StD: 25.184302556118066   Count: 85\n",
      "Iteration: 6   Mean: 0.09692307692307664   StD: 28.835443518084052   Count: 65\n",
      "Iteration: 1   Mean: -12.532500000000002   StD: 23.042210990739846   Count: 80\n",
      "Iteration: 6   Mean: 3.3484848484848486   StD: 32.11121655182544   Count: 66\n"
     ]
    },
    {
     "data": {
      "image/png": "[encoded data removed]",
      "text/plain": [
       "<Figure size 432x288 with 1 Axes>"
      ]
     },
     "metadata": {
      "needs_background": "light"
     },
     "output_type": "display_data"
    }
   ],
   "source": [
    "for experiment in experiments:\n",
    "    bl_effect_size, exp_effect_size = experiments[experiment].plot_effect_sizes_per_iter('sim_score', \n",
    "                                                                                         baseline_iter_num=1,\n",
    "                                                                                         title=experiment+\"_effect_size\")\n",
    "    "
   ]
  },
  {
   "cell_type": "markdown",
   "metadata": {},
   "source": [
    "### Plotting Effect Size with Simulatability Score Across Iterations"
   ]
  },
  {
   "cell_type": "code",
   "execution_count": 12,
   "metadata": {},
   "outputs": [
    {
     "data": {
      "text/plain": [
       "'hm'"
      ]
     },
     "metadata": {},
     "output_type": "display_data"
    },
    {
     "name": "stdout",
     "output_type": "stream",
     "text": [
      "Iteration: 1   Mean: 0.0   StD: 0.0   Count: 83\n",
      "Iteration: 2   Mean: 9.014102564102565   StD: 28.024996840061338   Count: 78\n",
      "Iteration: 1   Mean: 0.0   StD: 0.0   Count: 80\n",
      "Iteration: 2   Mean: 10.979487179487172   StD: 25.652788304306174   Count: 78\n",
      "Iteration: 1   Mean: 0.0   StD: 0.0   Count: 83\n",
      "Iteration: 3   Mean: 13.24594594594595   StD: 28.81601147948965   Count: 74\n",
      "Iteration: 1   Mean: 0.0   StD: 0.0   Count: 80\n",
      "Iteration: 3   Mean: 11.012987012987008   StD: 31.878999648545033   Count: 77\n",
      "Iteration: 1   Mean: 0.0   StD: 0.0   Count: 83\n",
      "Iteration: 4   Mean: 12.075000000000003   StD: 30.242665273036067   Count: 72\n",
      "Iteration: 1   Mean: 0.0   StD: 0.0   Count: 80\n",
      "Iteration: 4   Mean: 15.82602739726028   StD: 31.78252501767661   Count: 73\n",
      "Iteration: 1   Mean: 0.0   StD: 0.0   Count: 83\n",
      "Iteration: 5   Mean: 10.941428571428572   StD: 29.784416180361315   Count: 70\n",
      "Iteration: 1   Mean: 0.0   StD: 0.0   Count: 80\n",
      "Iteration: 5   Mean: 14.356338028169011   StD: 38.33693382327046   Count: 71\n",
      "Iteration: 1   Mean: 0.0   StD: 0.0   Count: 83\n",
      "Iteration: 6   Mean: 10.158823529411766   StD: 32.094558218675886   Count: 68\n",
      "Iteration: 1   Mean: 0.0   StD: 0.0   Count: 80\n",
      "Iteration: 6   Mean: 10.456521739130435   StD: 33.826631860383365   Count: 69\n"
     ]
    },
    {
     "name": "stderr",
     "output_type": "stream",
     "text": [
      "C:\\Users\\Arnold\\Documents\\University of Toronto\\Thesis\\Release\\analysis\\data_viz.py:31: RuntimeWarning: invalid value encountered in true_divide\n",
      "  d = abs(mean[0] - mean[1]) / pooled_std\n"
     ]
    },
    {
     "data": {
      "image/png": "[encoded data removed]",
      "text/plain": [
       "<Figure size 432x288 with 1 Axes>"
      ]
     },
     "metadata": {
      "needs_background": "light"
     },
     "output_type": "display_data"
    },
    {
     "name": "stdout",
     "output_type": "stream",
     "text": [
      "   baseline_err   exp_err\n",
      "0      0.000000  0.000000\n",
      "1      3.173206  2.904606\n",
      "2      3.349793  3.632949\n",
      "3      3.564132  3.719863\n",
      "4      3.559919  4.549757\n",
      "5      3.892037  4.072248\n"
     ]
    },
    {
     "data": {
      "text/plain": [
       "<Figure size 432x288 with 0 Axes>"
      ]
     },
     "metadata": {},
     "output_type": "display_data"
    },
    {
     "data": {
      "image/png": "[encoded data removed]",
      "text/plain": [
       "<Figure size 432x288 with 2 Axes>"
      ]
     },
     "metadata": {
      "needs_background": "light"
     },
     "output_type": "display_data"
    },
    {
     "data": {
      "text/plain": [
       "'proto'"
      ]
     },
     "metadata": {},
     "output_type": "display_data"
    },
    {
     "name": "stderr",
     "output_type": "stream",
     "text": [
      "C:\\Users\\Arnold\\Documents\\University of Toronto\\Thesis\\Release\\analysis\\data_viz.py:31: RuntimeWarning: invalid value encountered in true_divide\n",
      "  d = abs(mean[0] - mean[1]) / pooled_std\n"
     ]
    },
    {
     "name": "stdout",
     "output_type": "stream",
     "text": [
      "Iteration: 1   Mean: 0.0   StD: 0.0   Count: 78\n",
      "Iteration: 2   Mean: 7.920895522388061   StD: 28.7967776885973   Count: 67\n",
      "Iteration: 1   Mean: 0.0   StD: 0.0   Count: 82\n",
      "Iteration: 2   Mean: 13.889041095890406   StD: 27.51368629954835   Count: 73\n",
      "Iteration: 1   Mean: 0.0   StD: 0.0   Count: 78\n",
      "Iteration: 3   Mean: 12.470000000000002   StD: 29.54939730952109   Count: 60\n",
      "Iteration: 1   Mean: 0.0   StD: 0.0   Count: 82\n",
      "Iteration: 3   Mean: 17.39275362318841   StD: 30.239092923490027   Count: 69\n",
      "Iteration: 1   Mean: 0.0   StD: 0.0   Count: 78\n",
      "Iteration: 4   Mean: 14.486206896551725   StD: 29.017390117300366   Count: 58\n",
      "Iteration: 1   Mean: 0.0   StD: 0.0   Count: 82\n",
      "Iteration: 4   Mean: 16.599999999999994   StD: 33.50883646461215   Count: 67\n",
      "Iteration: 1   Mean: 0.0   StD: 0.0   Count: 78\n",
      "Iteration: 5   Mean: 11.294339622641512   StD: 28.294015506778514   Count: 53\n",
      "Iteration: 1   Mean: 0.0   StD: 0.0   Count: 82\n",
      "Iteration: 5   Mean: 21.30967741935485   StD: 34.201403047039456   Count: 62\n",
      "Iteration: 1   Mean: 0.0   StD: 0.0   Count: 78\n",
      "Iteration: 6   Mean: 10.273584905660377   StD: 27.619712518301377   Count: 53\n",
      "Iteration: 1   Mean: 0.0   StD: 0.0   Count: 82\n",
      "Iteration: 6   Mean: 16.59491525423729   StD: 34.39837818815668   Count: 59\n"
     ]
    },
    {
     "data": {
      "image/png": "[encoded data removed]",
      "text/plain": [
       "<Figure size 432x288 with 1 Axes>"
      ]
     },
     "metadata": {
      "needs_background": "light"
     },
     "output_type": "display_data"
    },
    {
     "name": "stdout",
     "output_type": "stream",
     "text": [
      "   baseline_err   exp_err\n",
      "0      0.000000  0.000000\n",
      "1      3.518086  3.220233\n",
      "2      3.814811  3.640359\n",
      "3      3.810170  4.093756\n",
      "4      3.886482  4.343583\n",
      "5      3.793859  4.478287\n"
     ]
    },
    {
     "data": {
      "text/plain": [
       "<Figure size 432x288 with 0 Axes>"
      ]
     },
     "metadata": {},
     "output_type": "display_data"
    },
    {
     "data": {
      "image/png": "[encoded data removed]",
      "text/plain": [
       "<Figure size 432x288 with 2 Axes>"
      ]
     },
     "metadata": {
      "needs_background": "light"
     },
     "output_type": "display_data"
    },
    {
     "data": {
      "text/plain": [
       "'multi'"
      ]
     },
     "metadata": {},
     "output_type": "display_data"
    },
    {
     "name": "stderr",
     "output_type": "stream",
     "text": [
      "C:\\Users\\Arnold\\Documents\\University of Toronto\\Thesis\\Release\\analysis\\data_viz.py:31: RuntimeWarning: invalid value encountered in true_divide\n",
      "  d = abs(mean[0] - mean[1]) / pooled_std\n"
     ]
    },
    {
     "name": "stdout",
     "output_type": "stream",
     "text": [
      "Iteration: 1   Mean: 0.0   StD: 0.0   Count: 85\n",
      "Iteration: 2   Mean: 7.197590361445784   StD: 28.116595116622875   Count: 83\n",
      "Iteration: 1   Mean: 0.0   StD: 0.0   Count: 80\n",
      "Iteration: 2   Mean: 9.0   StD: 29.585780368278275   Count: 76\n",
      "Iteration: 1   Mean: 0.0   StD: 0.0   Count: 85\n",
      "Iteration: 3   Mean: 8.510666666666667   StD: 30.233485880203563   Count: 75\n",
      "Iteration: 1   Mean: 0.0   StD: 0.0   Count: 80\n",
      "Iteration: 3   Mean: 14.745714285714286   StD: 35.36980897833011   Count: 70\n",
      "Iteration: 1   Mean: 0.0   StD: 0.0   Count: 85\n",
      "Iteration: 4   Mean: 11.610294117647058   StD: 34.423716831702215   Count: 68\n",
      "Iteration: 1   Mean: 0.0   StD: 0.0   Count: 80\n",
      "Iteration: 4   Mean: 12.311764705882355   StD: 31.112950365103956   Count: 68\n",
      "Iteration: 1   Mean: 0.0   StD: 0.0   Count: 85\n",
      "Iteration: 5   Mean: 10.477611940298507   StD: 29.27355731453094   Count: 67\n",
      "Iteration: 1   Mean: 0.0   StD: 0.0   Count: 80\n",
      "Iteration: 5   Mean: 16.72089552238806   StD: 33.00143494269299   Count: 67\n",
      "Iteration: 1   Mean: 0.0   StD: 0.0   Count: 85\n",
      "Iteration: 6   Mean: 14.36   StD: 33.14646380083401   Count: 65\n",
      "Iteration: 1   Mean: 0.0   StD: 0.0   Count: 80\n",
      "Iteration: 6   Mean: 19.60454545454546   StD: 38.33902784297035   Count: 66\n"
     ]
    },
    {
     "data": {
      "image/png": "[encoded data removed]",
      "text/plain": [
       "<Figure size 432x288 with 1 Axes>"
      ]
     },
     "metadata": {
      "needs_background": "light"
     },
     "output_type": "display_data"
    },
    {
     "name": "stdout",
     "output_type": "stream",
     "text": [
      "   baseline_err   exp_err\n",
      "0      0.000000  0.000000\n",
      "1      3.086197  3.393722\n",
      "2      3.491062  4.227501\n",
      "3      4.174489  3.772999\n",
      "4      3.576334  4.031767\n",
      "5      4.111313  4.719208\n"
     ]
    },
    {
     "data": {
      "text/plain": [
       "<Figure size 432x288 with 0 Axes>"
      ]
     },
     "metadata": {},
     "output_type": "display_data"
    },
    {
     "data": {
      "image/png": "[encoded data removed]",
      "text/plain": [
       "<Figure size 432x288 with 2 Axes>"
      ]
     },
     "metadata": {
      "needs_background": "light"
     },
     "output_type": "display_data"
    }
   ],
   "source": [
    "baseline_iter_num=1\n",
    "ylim=(0, 28)\n",
    "ylim2=(0, 1)\n",
    "line_labels=['Effect Size - Baseline', 'Effect Size - Policy']\n",
    "bar_labels=['Score - Baseline', 'Score - Policy']\n",
    "\n",
    "font = {'weight' : 'normal',\n",
    "        'size'   : 15}\t\n",
    "matplotlib.rc('font', **font)\n",
    "\n",
    "titles = {'hm': 'Saliency Maps', 'proto': 'Prototypes', 'multi': 'Combined Explanations',\n",
    "         'bl': 'Baseline', 'exp': 'Experimental'}\n",
    "\n",
    "if not os.path.exists(fig_save_dir):\n",
    "    os.makedirs(fig_save_dir)\n",
    "\n",
    "# legend only in first plot\n",
    "legend = True\n",
    "for experiment in experiments:\n",
    "    display(experiment)\n",
    "    title = titles[experiment]\n",
    "    experiments[experiment].plot_all_per_iter2('sim_score_norm', baseline_iter_num, ylim=ylim, ylim2=ylim2, \n",
    "                                              bar_labels=bar_labels, line_labels=line_labels, title=None,\n",
    "                                              legend=legend, save_file=fig_save_dir+experiment+\".png\")\n",
    "    # legend only in first plot\n",
    "    legend = False"
   ]
  },
  {
   "cell_type": "markdown",
   "metadata": {},
   "source": [
    "### Effect Size between different Explanations in a Batch"
   ]
  },
  {
   "cell_type": "code",
   "execution_count": 13,
   "metadata": {},
   "outputs": [],
   "source": [
    "from scipy.stats import ttest_ind_from_stats\n",
    "\n",
    "def df_pooled_std(std, count, num_actions):\n",
    "    \n",
    "    display(std)\n",
    "    total_count = count.sum()\n",
    "    pooled_std = np.sqrt(((count-1)*(std**2)).sum(0) / (total_count - num_actions))\n",
    "    return pooled_std\n",
    "\n",
    "def df_pooled_mean(mean, count):\n",
    "    total_count = count.sum()\n",
    "    pooled_mean = (count * mean).sum() / total_count\n",
    "    return pooled_mean\n",
    "\n",
    "def cohens_d(mean1, std1, count1, mean2, std2, count2):\n",
    "    pooled_std = np.sqrt(((count1-1.0)*std1**2 + (count2-1.0)*std2**2) / (count1+count2-2))\n",
    "    return abs(mean1 - mean2) / pooled_std"
   ]
  },
  {
   "cell_type": "markdown",
   "metadata": {},
   "source": [
    "#### Local Simulatability\n",
    "We observe the change in simulatability score after displaying local explanations to the user.  In particular, for each <strong>local simulatability score</strong>, we compare the mean difference (from the previous iteration) for corresponding and not corresponding explanations.\n",
    "\n",
    "We compute the mean difference for each of the local simulatability scores.  We also compare within each experiment, difference between each batch and difference between corresponding and non-corresponding explanations."
   ]
  },
  {
   "cell_type": "code",
   "execution_count": 14,
   "metadata": {},
   "outputs": [],
   "source": [
    "classification_possibilities = ['tp', 'tn', 'fp', 'fn']\n",
    "\n",
    "# normalize local simulatability scores\n",
    "for experiment in experiments:\n",
    "    for class_pos in classification_possibilities:\n",
    "        experiments[experiment].baseline.normalize_values(['sim_score_'+class_pos])\n",
    "        experiments[experiment].experimental.normalize_values(['sim_score_'+class_pos])"
   ]
  },
  {
   "cell_type": "code",
   "execution_count": 15,
   "metadata": {
    "scrolled": true
   },
   "outputs": [
    {
     "data": {
      "text/plain": [
       "'hm'"
      ]
     },
     "metadata": {},
     "output_type": "display_data"
    },
    {
     "name": "stderr",
     "output_type": "stream",
     "text": [
      "C:\\ProgramData\\Anaconda3\\lib\\site-packages\\scipy\\stats\\stats.py:4355: RuntimeWarning: divide by zero encountered in true_divide\n",
      "  denom = np.sqrt(svar * (1.0 / n1 + 1.0 / n2))\n",
      "C:\\ProgramData\\Anaconda3\\lib\\site-packages\\scipy\\stats\\_distn_infrastructure.py:901: RuntimeWarning: invalid value encountered in greater\n",
      "  return (a < x) & (x < b)\n",
      "C:\\ProgramData\\Anaconda3\\lib\\site-packages\\scipy\\stats\\_distn_infrastructure.py:901: RuntimeWarning: invalid value encountered in less\n",
      "  return (a < x) & (x < b)\n",
      "C:\\ProgramData\\Anaconda3\\lib\\site-packages\\scipy\\stats\\_distn_infrastructure.py:1892: RuntimeWarning: invalid value encountered in less_equal\n",
      "  cond2 = cond0 & (x <= _a)\n"
     ]
    },
    {
     "data": {
      "text/html": [
       "<div>\n",
       "<style scoped>\n",
       "    .dataframe tbody tr th:only-of-type {\n",
       "        vertical-align: middle;\n",
       "    }\n",
       "\n",
       "    .dataframe tbody tr th {\n",
       "        vertical-align: top;\n",
       "    }\n",
       "\n",
       "    .dataframe thead th {\n",
       "        text-align: right;\n",
       "    }\n",
       "</style>\n",
       "<table border=\"1\" class=\"dataframe\">\n",
       "  <thead>\n",
       "    <tr style=\"text-align: right;\">\n",
       "      <th></th>\n",
       "      <th>score</th>\n",
       "      <th>corr_mean</th>\n",
       "      <th>corr_err</th>\n",
       "      <th>corr_count</th>\n",
       "      <th>uncorr_mean</th>\n",
       "      <th>uncorr_err</th>\n",
       "      <th>uncorr_count</th>\n",
       "      <th>effect_size</th>\n",
       "      <th>p_value</th>\n",
       "    </tr>\n",
       "  </thead>\n",
       "  <tbody>\n",
       "    <tr>\n",
       "      <th>0</th>\n",
       "      <td>sim_score_tp_norm</td>\n",
       "      <td>7.100000</td>\n",
       "      <td>13.984317</td>\n",
       "      <td>91</td>\n",
       "      <td>-0.569004</td>\n",
       "      <td>13.053309</td>\n",
       "      <td>271</td>\n",
       "      <td>0.576956</td>\n",
       "      <td>2.782248e-06</td>\n",
       "    </tr>\n",
       "    <tr>\n",
       "      <th>1</th>\n",
       "      <td>sim_score_tn_norm</td>\n",
       "      <td>9.079121</td>\n",
       "      <td>15.405948</td>\n",
       "      <td>91</td>\n",
       "      <td>-0.776384</td>\n",
       "      <td>12.048939</td>\n",
       "      <td>271</td>\n",
       "      <td>0.759875</td>\n",
       "      <td>1.023292e-09</td>\n",
       "    </tr>\n",
       "    <tr>\n",
       "      <th>2</th>\n",
       "      <td>sim_score_fp_norm</td>\n",
       "      <td>-0.464444</td>\n",
       "      <td>20.451869</td>\n",
       "      <td>90</td>\n",
       "      <td>0.734926</td>\n",
       "      <td>13.491186</td>\n",
       "      <td>272</td>\n",
       "      <td>0.077351</td>\n",
       "      <td>5.251231e-01</td>\n",
       "    </tr>\n",
       "    <tr>\n",
       "      <th>3</th>\n",
       "      <td>sim_score_fn_norm</td>\n",
       "      <td>-2.288889</td>\n",
       "      <td>12.928493</td>\n",
       "      <td>90</td>\n",
       "      <td>-1.301471</td>\n",
       "      <td>10.752880</td>\n",
       "      <td>272</td>\n",
       "      <td>0.087153</td>\n",
       "      <td>4.740265e-01</td>\n",
       "    </tr>\n",
       "    <tr>\n",
       "      <th>4</th>\n",
       "      <td>sim_score_norm</td>\n",
       "      <td>NaN</td>\n",
       "      <td>NaN</td>\n",
       "      <td>0</td>\n",
       "      <td>1.949724</td>\n",
       "      <td>26.135821</td>\n",
       "      <td>362</td>\n",
       "      <td>NaN</td>\n",
       "      <td>NaN</td>\n",
       "    </tr>\n",
       "  </tbody>\n",
       "</table>\n",
       "</div>"
      ],
      "text/plain": [
       "               score  corr_mean   corr_err  corr_count  uncorr_mean  \\\n",
       "0  sim_score_tp_norm   7.100000  13.984317          91    -0.569004   \n",
       "1  sim_score_tn_norm   9.079121  15.405948          91    -0.776384   \n",
       "2  sim_score_fp_norm  -0.464444  20.451869          90     0.734926   \n",
       "3  sim_score_fn_norm  -2.288889  12.928493          90    -1.301471   \n",
       "4     sim_score_norm        NaN        NaN           0     1.949724   \n",
       "\n",
       "   uncorr_err  uncorr_count  effect_size       p_value  \n",
       "0   13.053309           271     0.576956  2.782248e-06  \n",
       "1   12.048939           271     0.759875  1.023292e-09  \n",
       "2   13.491186           272     0.077351  5.251231e-01  \n",
       "3   10.752880           272     0.087153  4.740265e-01  \n",
       "4   26.135821           362          NaN           NaN  "
      ]
     },
     "metadata": {},
     "output_type": "display_data"
    },
    {
     "data": {
      "text/html": [
       "<div>\n",
       "<style scoped>\n",
       "    .dataframe tbody tr th:only-of-type {\n",
       "        vertical-align: middle;\n",
       "    }\n",
       "\n",
       "    .dataframe tbody tr th {\n",
       "        vertical-align: top;\n",
       "    }\n",
       "\n",
       "    .dataframe thead th {\n",
       "        text-align: right;\n",
       "    }\n",
       "</style>\n",
       "<table border=\"1\" class=\"dataframe\">\n",
       "  <thead>\n",
       "    <tr style=\"text-align: right;\">\n",
       "      <th></th>\n",
       "      <th>score</th>\n",
       "      <th>corr_mean</th>\n",
       "      <th>corr_err</th>\n",
       "      <th>corr_count</th>\n",
       "      <th>uncorr_mean</th>\n",
       "      <th>uncorr_err</th>\n",
       "      <th>uncorr_count</th>\n",
       "      <th>effect_size</th>\n",
       "      <th>p_value</th>\n",
       "    </tr>\n",
       "  </thead>\n",
       "  <tbody>\n",
       "    <tr>\n",
       "      <th>0</th>\n",
       "      <td>sim_score_tp_norm</td>\n",
       "      <td>16.449091</td>\n",
       "      <td>13.898186</td>\n",
       "      <td>55</td>\n",
       "      <td>-1.692013</td>\n",
       "      <td>14.916469</td>\n",
       "      <td>313</td>\n",
       "      <td>1.228186</td>\n",
       "      <td>9.950641e-16</td>\n",
       "    </tr>\n",
       "    <tr>\n",
       "      <th>1</th>\n",
       "      <td>sim_score_tn_norm</td>\n",
       "      <td>13.837374</td>\n",
       "      <td>14.739379</td>\n",
       "      <td>99</td>\n",
       "      <td>-3.103717</td>\n",
       "      <td>11.670878</td>\n",
       "      <td>269</td>\n",
       "      <td>1.348151</td>\n",
       "      <td>3.199532e-26</td>\n",
       "    </tr>\n",
       "    <tr>\n",
       "      <th>2</th>\n",
       "      <td>sim_score_fp_norm</td>\n",
       "      <td>9.275000</td>\n",
       "      <td>16.867455</td>\n",
       "      <td>152</td>\n",
       "      <td>-4.693519</td>\n",
       "      <td>16.102175</td>\n",
       "      <td>216</td>\n",
       "      <td>0.850586</td>\n",
       "      <td>1.307728e-14</td>\n",
       "    </tr>\n",
       "    <tr>\n",
       "      <th>3</th>\n",
       "      <td>sim_score_fn_norm</td>\n",
       "      <td>5.895161</td>\n",
       "      <td>12.363423</td>\n",
       "      <td>62</td>\n",
       "      <td>-2.587255</td>\n",
       "      <td>10.513311</td>\n",
       "      <td>306</td>\n",
       "      <td>0.782250</td>\n",
       "      <td>3.857672e-08</td>\n",
       "    </tr>\n",
       "    <tr>\n",
       "      <th>4</th>\n",
       "      <td>sim_score_norm</td>\n",
       "      <td>NaN</td>\n",
       "      <td>NaN</td>\n",
       "      <td>0</td>\n",
       "      <td>2.391033</td>\n",
       "      <td>27.778091</td>\n",
       "      <td>368</td>\n",
       "      <td>NaN</td>\n",
       "      <td>NaN</td>\n",
       "    </tr>\n",
       "  </tbody>\n",
       "</table>\n",
       "</div>"
      ],
      "text/plain": [
       "               score  corr_mean   corr_err  corr_count  uncorr_mean  \\\n",
       "0  sim_score_tp_norm  16.449091  13.898186          55    -1.692013   \n",
       "1  sim_score_tn_norm  13.837374  14.739379          99    -3.103717   \n",
       "2  sim_score_fp_norm   9.275000  16.867455         152    -4.693519   \n",
       "3  sim_score_fn_norm   5.895161  12.363423          62    -2.587255   \n",
       "4     sim_score_norm        NaN        NaN           0     2.391033   \n",
       "\n",
       "   uncorr_err  uncorr_count  effect_size       p_value  \n",
       "0   14.916469           313     1.228186  9.950641e-16  \n",
       "1   11.670878           269     1.348151  3.199532e-26  \n",
       "2   16.102175           216     0.850586  1.307728e-14  \n",
       "3   10.513311           306     0.782250  3.857672e-08  \n",
       "4   27.778091           368          NaN           NaN  "
      ]
     },
     "metadata": {},
     "output_type": "display_data"
    },
    {
     "data": {
      "text/plain": [
       "0    13.053309\n",
       "1    12.048939\n",
       "2    13.491186\n",
       "3    10.752880\n",
       "4    26.135821\n",
       "Name: uncorr_err, dtype: float64"
      ]
     },
     "metadata": {},
     "output_type": "display_data"
    },
    {
     "data": {
      "text/plain": [
       "0    14.916469\n",
       "1    11.670878\n",
       "2    16.102175\n",
       "3    10.513311\n",
       "4    27.778091\n",
       "Name: uncorr_err, dtype: float64"
      ]
     },
     "metadata": {},
     "output_type": "display_data"
    },
    {
     "data": {
      "text/plain": [
       "0    13.984317\n",
       "1    15.405948\n",
       "2    20.451869\n",
       "3    12.928493\n",
       "4          NaN\n",
       "Name: corr_err, dtype: float64"
      ]
     },
     "metadata": {},
     "output_type": "display_data"
    },
    {
     "data": {
      "text/plain": [
       "0    13.898186\n",
       "1    14.739379\n",
       "2    16.867455\n",
       "3    12.363423\n",
       "4          NaN\n",
       "Name: corr_err, dtype: float64"
      ]
     },
     "metadata": {},
     "output_type": "display_data"
    },
    {
     "data": {
      "text/plain": [
       "'proto'"
      ]
     },
     "metadata": {},
     "output_type": "display_data"
    },
    {
     "data": {
      "text/html": [
       "<div>\n",
       "<style scoped>\n",
       "    .dataframe tbody tr th:only-of-type {\n",
       "        vertical-align: middle;\n",
       "    }\n",
       "\n",
       "    .dataframe tbody tr th {\n",
       "        vertical-align: top;\n",
       "    }\n",
       "\n",
       "    .dataframe thead th {\n",
       "        text-align: right;\n",
       "    }\n",
       "</style>\n",
       "<table border=\"1\" class=\"dataframe\">\n",
       "  <thead>\n",
       "    <tr style=\"text-align: right;\">\n",
       "      <th></th>\n",
       "      <th>score</th>\n",
       "      <th>corr_mean</th>\n",
       "      <th>corr_err</th>\n",
       "      <th>corr_count</th>\n",
       "      <th>uncorr_mean</th>\n",
       "      <th>uncorr_err</th>\n",
       "      <th>uncorr_count</th>\n",
       "      <th>effect_size</th>\n",
       "      <th>p_value</th>\n",
       "    </tr>\n",
       "  </thead>\n",
       "  <tbody>\n",
       "    <tr>\n",
       "      <th>0</th>\n",
       "      <td>sim_score_tp_norm</td>\n",
       "      <td>9.655405</td>\n",
       "      <td>14.742011</td>\n",
       "      <td>74</td>\n",
       "      <td>-0.819816</td>\n",
       "      <td>14.757764</td>\n",
       "      <td>217</td>\n",
       "      <td>0.710002</td>\n",
       "      <td>2.617298e-07</td>\n",
       "    </tr>\n",
       "    <tr>\n",
       "      <th>1</th>\n",
       "      <td>sim_score_tn_norm</td>\n",
       "      <td>8.240000</td>\n",
       "      <td>10.682797</td>\n",
       "      <td>75</td>\n",
       "      <td>-0.228704</td>\n",
       "      <td>10.036311</td>\n",
       "      <td>216</td>\n",
       "      <td>0.829797</td>\n",
       "      <td>2.041956e-09</td>\n",
       "    </tr>\n",
       "    <tr>\n",
       "      <th>2</th>\n",
       "      <td>sim_score_fp_norm</td>\n",
       "      <td>0.243836</td>\n",
       "      <td>15.679923</td>\n",
       "      <td>73</td>\n",
       "      <td>0.063761</td>\n",
       "      <td>12.808268</td>\n",
       "      <td>218</td>\n",
       "      <td>0.013260</td>\n",
       "      <td>9.219556e-01</td>\n",
       "    </tr>\n",
       "    <tr>\n",
       "      <th>3</th>\n",
       "      <td>sim_score_fn_norm</td>\n",
       "      <td>-4.013043</td>\n",
       "      <td>11.811621</td>\n",
       "      <td>69</td>\n",
       "      <td>-0.656757</td>\n",
       "      <td>10.151777</td>\n",
       "      <td>222</td>\n",
       "      <td>0.317655</td>\n",
       "      <td>2.189329e-02</td>\n",
       "    </tr>\n",
       "    <tr>\n",
       "      <th>4</th>\n",
       "      <td>sim_score_norm</td>\n",
       "      <td>NaN</td>\n",
       "      <td>NaN</td>\n",
       "      <td>0</td>\n",
       "      <td>2.454296</td>\n",
       "      <td>25.229404</td>\n",
       "      <td>291</td>\n",
       "      <td>NaN</td>\n",
       "      <td>NaN</td>\n",
       "    </tr>\n",
       "  </tbody>\n",
       "</table>\n",
       "</div>"
      ],
      "text/plain": [
       "               score  corr_mean   corr_err  corr_count  uncorr_mean  \\\n",
       "0  sim_score_tp_norm   9.655405  14.742011          74    -0.819816   \n",
       "1  sim_score_tn_norm   8.240000  10.682797          75    -0.228704   \n",
       "2  sim_score_fp_norm   0.243836  15.679923          73     0.063761   \n",
       "3  sim_score_fn_norm  -4.013043  11.811621          69    -0.656757   \n",
       "4     sim_score_norm        NaN        NaN           0     2.454296   \n",
       "\n",
       "   uncorr_err  uncorr_count  effect_size       p_value  \n",
       "0   14.757764           217     0.710002  2.617298e-07  \n",
       "1   10.036311           216     0.829797  2.041956e-09  \n",
       "2   12.808268           218     0.013260  9.219556e-01  \n",
       "3   10.151777           222     0.317655  2.189329e-02  \n",
       "4   25.229404           291          NaN           NaN  "
      ]
     },
     "metadata": {},
     "output_type": "display_data"
    },
    {
     "data": {
      "text/html": [
       "<div>\n",
       "<style scoped>\n",
       "    .dataframe tbody tr th:only-of-type {\n",
       "        vertical-align: middle;\n",
       "    }\n",
       "\n",
       "    .dataframe tbody tr th {\n",
       "        vertical-align: top;\n",
       "    }\n",
       "\n",
       "    .dataframe thead th {\n",
       "        text-align: right;\n",
       "    }\n",
       "</style>\n",
       "<table border=\"1\" class=\"dataframe\">\n",
       "  <thead>\n",
       "    <tr style=\"text-align: right;\">\n",
       "      <th></th>\n",
       "      <th>score</th>\n",
       "      <th>corr_mean</th>\n",
       "      <th>corr_err</th>\n",
       "      <th>corr_count</th>\n",
       "      <th>uncorr_mean</th>\n",
       "      <th>uncorr_err</th>\n",
       "      <th>uncorr_count</th>\n",
       "      <th>effect_size</th>\n",
       "      <th>p_value</th>\n",
       "    </tr>\n",
       "  </thead>\n",
       "  <tbody>\n",
       "    <tr>\n",
       "      <th>0</th>\n",
       "      <td>sim_score_tp_norm</td>\n",
       "      <td>23.592857</td>\n",
       "      <td>15.691063</td>\n",
       "      <td>42</td>\n",
       "      <td>-1.274653</td>\n",
       "      <td>13.601830</td>\n",
       "      <td>288</td>\n",
       "      <td>1.791583</td>\n",
       "      <td>1.250749e-23</td>\n",
       "    </tr>\n",
       "    <tr>\n",
       "      <th>1</th>\n",
       "      <td>sim_score_tn_norm</td>\n",
       "      <td>11.485057</td>\n",
       "      <td>13.355110</td>\n",
       "      <td>87</td>\n",
       "      <td>-2.661728</td>\n",
       "      <td>10.635065</td>\n",
       "      <td>243</td>\n",
       "      <td>1.239735</td>\n",
       "      <td>1.822214e-20</td>\n",
       "    </tr>\n",
       "    <tr>\n",
       "      <th>2</th>\n",
       "      <td>sim_score_fp_norm</td>\n",
       "      <td>8.412676</td>\n",
       "      <td>18.010662</td>\n",
       "      <td>142</td>\n",
       "      <td>-3.594149</td>\n",
       "      <td>14.740000</td>\n",
       "      <td>188</td>\n",
       "      <td>0.739930</td>\n",
       "      <td>1.189352e-10</td>\n",
       "    </tr>\n",
       "    <tr>\n",
       "      <th>3</th>\n",
       "      <td>sim_score_fn_norm</td>\n",
       "      <td>5.611864</td>\n",
       "      <td>13.019536</td>\n",
       "      <td>59</td>\n",
       "      <td>-2.163100</td>\n",
       "      <td>10.628360</td>\n",
       "      <td>271</td>\n",
       "      <td>0.701156</td>\n",
       "      <td>1.654332e-06</td>\n",
       "    </tr>\n",
       "    <tr>\n",
       "      <th>4</th>\n",
       "      <td>sim_score_norm</td>\n",
       "      <td>NaN</td>\n",
       "      <td>NaN</td>\n",
       "      <td>0</td>\n",
       "      <td>3.757576</td>\n",
       "      <td>25.661537</td>\n",
       "      <td>330</td>\n",
       "      <td>NaN</td>\n",
       "      <td>NaN</td>\n",
       "    </tr>\n",
       "  </tbody>\n",
       "</table>\n",
       "</div>"
      ],
      "text/plain": [
       "               score  corr_mean   corr_err  corr_count  uncorr_mean  \\\n",
       "0  sim_score_tp_norm  23.592857  15.691063          42    -1.274653   \n",
       "1  sim_score_tn_norm  11.485057  13.355110          87    -2.661728   \n",
       "2  sim_score_fp_norm   8.412676  18.010662         142    -3.594149   \n",
       "3  sim_score_fn_norm   5.611864  13.019536          59    -2.163100   \n",
       "4     sim_score_norm        NaN        NaN           0     3.757576   \n",
       "\n",
       "   uncorr_err  uncorr_count  effect_size       p_value  \n",
       "0   13.601830           288     1.791583  1.250749e-23  \n",
       "1   10.635065           243     1.239735  1.822214e-20  \n",
       "2   14.740000           188     0.739930  1.189352e-10  \n",
       "3   10.628360           271     0.701156  1.654332e-06  \n",
       "4   25.661537           330          NaN           NaN  "
      ]
     },
     "metadata": {},
     "output_type": "display_data"
    },
    {
     "data": {
      "text/plain": [
       "0    14.757764\n",
       "1    10.036311\n",
       "2    12.808268\n",
       "3    10.151777\n",
       "4    25.229404\n",
       "Name: uncorr_err, dtype: float64"
      ]
     },
     "metadata": {},
     "output_type": "display_data"
    },
    {
     "data": {
      "text/plain": [
       "0    13.601830\n",
       "1    10.635065\n",
       "2    14.740000\n",
       "3    10.628360\n",
       "4    25.661537\n",
       "Name: uncorr_err, dtype: float64"
      ]
     },
     "metadata": {},
     "output_type": "display_data"
    },
    {
     "data": {
      "text/plain": [
       "0    14.742011\n",
       "1    10.682797\n",
       "2    15.679923\n",
       "3    11.811621\n",
       "4          NaN\n",
       "Name: corr_err, dtype: float64"
      ]
     },
     "metadata": {},
     "output_type": "display_data"
    },
    {
     "data": {
      "text/plain": [
       "0    15.691063\n",
       "1    13.355110\n",
       "2    18.010662\n",
       "3    13.019536\n",
       "4          NaN\n",
       "Name: corr_err, dtype: float64"
      ]
     },
     "metadata": {},
     "output_type": "display_data"
    },
    {
     "data": {
      "text/plain": [
       "'multi'"
      ]
     },
     "metadata": {},
     "output_type": "display_data"
    },
    {
     "data": {
      "text/html": [
       "<div>\n",
       "<style scoped>\n",
       "    .dataframe tbody tr th:only-of-type {\n",
       "        vertical-align: middle;\n",
       "    }\n",
       "\n",
       "    .dataframe tbody tr th {\n",
       "        vertical-align: top;\n",
       "    }\n",
       "\n",
       "    .dataframe thead th {\n",
       "        text-align: right;\n",
       "    }\n",
       "</style>\n",
       "<table border=\"1\" class=\"dataframe\">\n",
       "  <thead>\n",
       "    <tr style=\"text-align: right;\">\n",
       "      <th></th>\n",
       "      <th>score</th>\n",
       "      <th>corr_mean</th>\n",
       "      <th>corr_err</th>\n",
       "      <th>corr_count</th>\n",
       "      <th>uncorr_mean</th>\n",
       "      <th>uncorr_err</th>\n",
       "      <th>uncorr_count</th>\n",
       "      <th>effect_size</th>\n",
       "      <th>p_value</th>\n",
       "    </tr>\n",
       "  </thead>\n",
       "  <tbody>\n",
       "    <tr>\n",
       "      <th>0</th>\n",
       "      <td>sim_score_tp_norm</td>\n",
       "      <td>9.561364</td>\n",
       "      <td>15.499095</td>\n",
       "      <td>44</td>\n",
       "      <td>1.046497</td>\n",
       "      <td>13.747695</td>\n",
       "      <td>314</td>\n",
       "      <td>0.609471</td>\n",
       "      <td>0.000179</td>\n",
       "    </tr>\n",
       "    <tr>\n",
       "      <th>1</th>\n",
       "      <td>sim_score_tn_norm</td>\n",
       "      <td>7.845652</td>\n",
       "      <td>14.729678</td>\n",
       "      <td>46</td>\n",
       "      <td>0.196154</td>\n",
       "      <td>13.731281</td>\n",
       "      <td>312</td>\n",
       "      <td>0.551854</td>\n",
       "      <td>0.000536</td>\n",
       "    </tr>\n",
       "    <tr>\n",
       "      <th>2</th>\n",
       "      <td>sim_score_fp_norm</td>\n",
       "      <td>-2.204651</td>\n",
       "      <td>17.000097</td>\n",
       "      <td>43</td>\n",
       "      <td>1.526349</td>\n",
       "      <td>15.230054</td>\n",
       "      <td>315</td>\n",
       "      <td>0.241498</td>\n",
       "      <td>0.138307</td>\n",
       "    </tr>\n",
       "    <tr>\n",
       "      <th>3</th>\n",
       "      <td>sim_score_fn_norm</td>\n",
       "      <td>-3.285106</td>\n",
       "      <td>15.630613</td>\n",
       "      <td>47</td>\n",
       "      <td>-0.948232</td>\n",
       "      <td>12.418921</td>\n",
       "      <td>311</td>\n",
       "      <td>0.181448</td>\n",
       "      <td>0.247064</td>\n",
       "    </tr>\n",
       "    <tr>\n",
       "      <th>4</th>\n",
       "      <td>sim_score_tp_norm</td>\n",
       "      <td>5.923256</td>\n",
       "      <td>11.501467</td>\n",
       "      <td>43</td>\n",
       "      <td>1.570159</td>\n",
       "      <td>14.499225</td>\n",
       "      <td>315</td>\n",
       "      <td>0.307019</td>\n",
       "      <td>0.059773</td>\n",
       "    </tr>\n",
       "    <tr>\n",
       "      <th>5</th>\n",
       "      <td>sim_score_tn_norm</td>\n",
       "      <td>6.582222</td>\n",
       "      <td>15.028855</td>\n",
       "      <td>45</td>\n",
       "      <td>0.402236</td>\n",
       "      <td>13.787175</td>\n",
       "      <td>313</td>\n",
       "      <td>0.443117</td>\n",
       "      <td>0.005735</td>\n",
       "    </tr>\n",
       "    <tr>\n",
       "      <th>6</th>\n",
       "      <td>sim_score_fn_norm</td>\n",
       "      <td>-1.733333</td>\n",
       "      <td>18.812145</td>\n",
       "      <td>45</td>\n",
       "      <td>-1.186262</td>\n",
       "      <td>11.833440</td>\n",
       "      <td>313</td>\n",
       "      <td>0.042402</td>\n",
       "      <td>0.790421</td>\n",
       "    </tr>\n",
       "    <tr>\n",
       "      <th>7</th>\n",
       "      <td>sim_score_fp_norm</td>\n",
       "      <td>3.371111</td>\n",
       "      <td>22.812224</td>\n",
       "      <td>45</td>\n",
       "      <td>0.748562</td>\n",
       "      <td>14.134253</td>\n",
       "      <td>313</td>\n",
       "      <td>0.169495</td>\n",
       "      <td>0.288435</td>\n",
       "    </tr>\n",
       "    <tr>\n",
       "      <th>8</th>\n",
       "      <td>sim_score_norm</td>\n",
       "      <td>NaN</td>\n",
       "      <td>NaN</td>\n",
       "      <td>0</td>\n",
       "      <td>3.095251</td>\n",
       "      <td>25.939714</td>\n",
       "      <td>358</td>\n",
       "      <td>NaN</td>\n",
       "      <td>NaN</td>\n",
       "    </tr>\n",
       "  </tbody>\n",
       "</table>\n",
       "</div>"
      ],
      "text/plain": [
       "               score  corr_mean   corr_err  corr_count  uncorr_mean  \\\n",
       "0  sim_score_tp_norm   9.561364  15.499095          44     1.046497   \n",
       "1  sim_score_tn_norm   7.845652  14.729678          46     0.196154   \n",
       "2  sim_score_fp_norm  -2.204651  17.000097          43     1.526349   \n",
       "3  sim_score_fn_norm  -3.285106  15.630613          47    -0.948232   \n",
       "4  sim_score_tp_norm   5.923256  11.501467          43     1.570159   \n",
       "5  sim_score_tn_norm   6.582222  15.028855          45     0.402236   \n",
       "6  sim_score_fn_norm  -1.733333  18.812145          45    -1.186262   \n",
       "7  sim_score_fp_norm   3.371111  22.812224          45     0.748562   \n",
       "8     sim_score_norm        NaN        NaN           0     3.095251   \n",
       "\n",
       "   uncorr_err  uncorr_count  effect_size   p_value  \n",
       "0   13.747695           314     0.609471  0.000179  \n",
       "1   13.731281           312     0.551854  0.000536  \n",
       "2   15.230054           315     0.241498  0.138307  \n",
       "3   12.418921           311     0.181448  0.247064  \n",
       "4   14.499225           315     0.307019  0.059773  \n",
       "5   13.787175           313     0.443117  0.005735  \n",
       "6   11.833440           313     0.042402  0.790421  \n",
       "7   14.134253           313     0.169495  0.288435  \n",
       "8   25.939714           358          NaN       NaN  "
      ]
     },
     "metadata": {},
     "output_type": "display_data"
    },
    {
     "data": {
      "text/html": [
       "<div>\n",
       "<style scoped>\n",
       "    .dataframe tbody tr th:only-of-type {\n",
       "        vertical-align: middle;\n",
       "    }\n",
       "\n",
       "    .dataframe tbody tr th {\n",
       "        vertical-align: top;\n",
       "    }\n",
       "\n",
       "    .dataframe thead th {\n",
       "        text-align: right;\n",
       "    }\n",
       "</style>\n",
       "<table border=\"1\" class=\"dataframe\">\n",
       "  <thead>\n",
       "    <tr style=\"text-align: right;\">\n",
       "      <th></th>\n",
       "      <th>score</th>\n",
       "      <th>corr_mean</th>\n",
       "      <th>corr_err</th>\n",
       "      <th>corr_count</th>\n",
       "      <th>uncorr_mean</th>\n",
       "      <th>uncorr_err</th>\n",
       "      <th>uncorr_count</th>\n",
       "      <th>effect_size</th>\n",
       "      <th>p_value</th>\n",
       "    </tr>\n",
       "  </thead>\n",
       "  <tbody>\n",
       "    <tr>\n",
       "      <th>0</th>\n",
       "      <td>sim_score_tp_norm</td>\n",
       "      <td>22.120000</td>\n",
       "      <td>14.246914</td>\n",
       "      <td>15</td>\n",
       "      <td>-0.200904</td>\n",
       "      <td>15.319027</td>\n",
       "      <td>332</td>\n",
       "      <td>1.461080</td>\n",
       "      <td>6.167313e-08</td>\n",
       "    </tr>\n",
       "    <tr>\n",
       "      <th>1</th>\n",
       "      <td>sim_score_tn_norm</td>\n",
       "      <td>15.406452</td>\n",
       "      <td>13.674451</td>\n",
       "      <td>31</td>\n",
       "      <td>1.332911</td>\n",
       "      <td>13.202150</td>\n",
       "      <td>316</td>\n",
       "      <td>1.062644</td>\n",
       "      <td>3.431954e-08</td>\n",
       "    </tr>\n",
       "    <tr>\n",
       "      <th>2</th>\n",
       "      <td>sim_score_fp_norm</td>\n",
       "      <td>4.834722</td>\n",
       "      <td>14.581361</td>\n",
       "      <td>72</td>\n",
       "      <td>0.141091</td>\n",
       "      <td>13.768143</td>\n",
       "      <td>275</td>\n",
       "      <td>0.336717</td>\n",
       "      <td>1.141034e-02</td>\n",
       "    </tr>\n",
       "    <tr>\n",
       "      <th>3</th>\n",
       "      <td>sim_score_fn_norm</td>\n",
       "      <td>-3.147059</td>\n",
       "      <td>9.642232</td>\n",
       "      <td>17</td>\n",
       "      <td>-0.841515</td>\n",
       "      <td>10.334241</td>\n",
       "      <td>330</td>\n",
       "      <td>0.223770</td>\n",
       "      <td>3.688841e-01</td>\n",
       "    </tr>\n",
       "    <tr>\n",
       "      <th>4</th>\n",
       "      <td>sim_score_tp_norm</td>\n",
       "      <td>18.779070</td>\n",
       "      <td>15.352052</td>\n",
       "      <td>43</td>\n",
       "      <td>-1.784211</td>\n",
       "      <td>14.286143</td>\n",
       "      <td>304</td>\n",
       "      <td>1.426013</td>\n",
       "      <td>9.441565e-17</td>\n",
       "    </tr>\n",
       "    <tr>\n",
       "      <th>5</th>\n",
       "      <td>sim_score_tn_norm</td>\n",
       "      <td>14.937500</td>\n",
       "      <td>14.586825</td>\n",
       "      <td>56</td>\n",
       "      <td>0.214089</td>\n",
       "      <td>12.348605</td>\n",
       "      <td>291</td>\n",
       "      <td>1.156427</td>\n",
       "      <td>3.185834e-14</td>\n",
       "    </tr>\n",
       "    <tr>\n",
       "      <th>6</th>\n",
       "      <td>sim_score_fn_norm</td>\n",
       "      <td>6.293548</td>\n",
       "      <td>14.269850</td>\n",
       "      <td>31</td>\n",
       "      <td>-1.665506</td>\n",
       "      <td>9.563886</td>\n",
       "      <td>316</td>\n",
       "      <td>0.791090</td>\n",
       "      <td>3.355501e-05</td>\n",
       "    </tr>\n",
       "    <tr>\n",
       "      <th>7</th>\n",
       "      <td>sim_score_fp_norm</td>\n",
       "      <td>5.674390</td>\n",
       "      <td>14.555461</td>\n",
       "      <td>82</td>\n",
       "      <td>-0.295849</td>\n",
       "      <td>13.609801</td>\n",
       "      <td>265</td>\n",
       "      <td>0.431449</td>\n",
       "      <td>7.157402e-04</td>\n",
       "    </tr>\n",
       "    <tr>\n",
       "      <th>8</th>\n",
       "      <td>sim_score_norm</td>\n",
       "      <td>NaN</td>\n",
       "      <td>NaN</td>\n",
       "      <td>0</td>\n",
       "      <td>3.514697</td>\n",
       "      <td>24.576036</td>\n",
       "      <td>347</td>\n",
       "      <td>NaN</td>\n",
       "      <td>NaN</td>\n",
       "    </tr>\n",
       "  </tbody>\n",
       "</table>\n",
       "</div>"
      ],
      "text/plain": [
       "               score  corr_mean   corr_err  corr_count  uncorr_mean  \\\n",
       "0  sim_score_tp_norm  22.120000  14.246914          15    -0.200904   \n",
       "1  sim_score_tn_norm  15.406452  13.674451          31     1.332911   \n",
       "2  sim_score_fp_norm   4.834722  14.581361          72     0.141091   \n",
       "3  sim_score_fn_norm  -3.147059   9.642232          17    -0.841515   \n",
       "4  sim_score_tp_norm  18.779070  15.352052          43    -1.784211   \n",
       "5  sim_score_tn_norm  14.937500  14.586825          56     0.214089   \n",
       "6  sim_score_fn_norm   6.293548  14.269850          31    -1.665506   \n",
       "7  sim_score_fp_norm   5.674390  14.555461          82    -0.295849   \n",
       "8     sim_score_norm        NaN        NaN           0     3.514697   \n",
       "\n",
       "   uncorr_err  uncorr_count  effect_size       p_value  \n",
       "0   15.319027           332     1.461080  6.167313e-08  \n",
       "1   13.202150           316     1.062644  3.431954e-08  \n",
       "2   13.768143           275     0.336717  1.141034e-02  \n",
       "3   10.334241           330     0.223770  3.688841e-01  \n",
       "4   14.286143           304     1.426013  9.441565e-17  \n",
       "5   12.348605           291     1.156427  3.185834e-14  \n",
       "6    9.563886           316     0.791090  3.355501e-05  \n",
       "7   13.609801           265     0.431449  7.157402e-04  \n",
       "8   24.576036           347          NaN           NaN  "
      ]
     },
     "metadata": {},
     "output_type": "display_data"
    },
    {
     "data": {
      "text/plain": [
       "0    13.747695\n",
       "1    13.731281\n",
       "2    15.230054\n",
       "3    12.418921\n",
       "4    14.499225\n",
       "5    13.787175\n",
       "6    11.833440\n",
       "7    14.134253\n",
       "8    25.939714\n",
       "Name: uncorr_err, dtype: float64"
      ]
     },
     "metadata": {},
     "output_type": "display_data"
    },
    {
     "data": {
      "text/plain": [
       "0    15.319027\n",
       "1    13.202150\n",
       "2    13.768143\n",
       "3    10.334241\n",
       "4    14.286143\n",
       "5    12.348605\n",
       "6     9.563886\n",
       "7    13.609801\n",
       "8    24.576036\n",
       "Name: uncorr_err, dtype: float64"
      ]
     },
     "metadata": {},
     "output_type": "display_data"
    },
    {
     "data": {
      "text/plain": [
       "0    15.499095\n",
       "1    14.729678\n",
       "2    17.000097\n",
       "3    15.630613\n",
       "4    11.501467\n",
       "5    15.028855\n",
       "6    18.812145\n",
       "7    22.812224\n",
       "8          NaN\n",
       "Name: corr_err, dtype: float64"
      ]
     },
     "metadata": {},
     "output_type": "display_data"
    },
    {
     "data": {
      "text/plain": [
       "0    14.246914\n",
       "1    13.674451\n",
       "2    14.581361\n",
       "3     9.642232\n",
       "4    15.352052\n",
       "5    14.586825\n",
       "6    14.269850\n",
       "7    14.555461\n",
       "8          NaN\n",
       "Name: corr_err, dtype: float64"
      ]
     },
     "metadata": {},
     "output_type": "display_data"
    }
   ],
   "source": [
    "report_file = open(report_filename, 'a')\n",
    "\n",
    "results_df  = {'experiment': [],\n",
    "               'policy_corr_mean': [], 'policy_corr_std': [], 'policy_corr_count': [], 'policy_corr_se': [],\n",
    "               'policy_uncorr_mean': [], 'policy_uncorr_std': [], 'policy_uncorr_count': [], 'policy_uncorr_se': [],\n",
    "               'policy_effect_size': [], 'policy_p_value': [],\n",
    "               'random_corr_mean': [], 'random_corr_std': [], 'random_corr_count': [], 'random_corr_se': [],\n",
    "               'random_uncorr_mean': [], 'random_uncorr_std': [], 'random_uncorr_count': [], 'random_uncorr_se': [],\n",
    "               'random_effect_size': [], 'random_p_value': [],\n",
    "               'corr_effect_size': [], 'corr_p_value': [],\n",
    "               'uncorr_effect_size': [], 'uncorr_p_value': []\n",
    "              }\n",
    "\n",
    "classification_possibilities = ['tp', 'tn', 'fp', 'fn']\n",
    "\n",
    "total_count = {}\n",
    "pooled_std = {}\n",
    "pooled_mean = {}\n",
    "num_actions = {}\n",
    "\n",
    "report_file.write(\"-------LOCAL SIMULATABILITY SCORE PER LOCAL EXPLANATION------------\\n\\n\")\n",
    "\n",
    "for experiment in experiments:\n",
    "    \n",
    "    display(experiment)\n",
    "    \n",
    "    bl_df = experiments[experiment].baseline.get_explanation_effect_df('sim_score_norm', err=\"std\")\n",
    "    exp_df = experiments[experiment].experimental.get_explanation_effect_df('sim_score_norm', err=\"std\")\n",
    "    \n",
    "    display(bl_df)\n",
    "    display(exp_df)\n",
    "    \n",
    "    bl_df_string = bl_df.to_string()\n",
    "    exp_df_string = exp_df.to_string()\n",
    "    report_file.write(experiment+\"_bl\\n\")\n",
    "    report_file.write(bl_df_string+\"\\n\\n\")\n",
    "    report_file.write(experiment+\"_exp\\n\")\n",
    "    report_file.write(exp_df_string+\"\\n\\n\")\n",
    "    \n",
    "    num_actions['bl'] = bl_df.shape[0]\n",
    "    num_actions['exp'] = exp_df.shape[0]\n",
    "    \n",
    "    total_count['bl_uncorr'] = bl_df['uncorr_count'].sum()\n",
    "    total_count['bl_corr'] = bl_df['corr_count'].sum()\n",
    "    total_count['exp_uncorr'] = exp_df['uncorr_count'].sum()\n",
    "    total_count['exp_corr'] = exp_df['corr_count'].sum()\n",
    "    \n",
    "    pooled_std['bl_uncorr'] = df_pooled_std(bl_df['uncorr_err'], bl_df['uncorr_count'], num_actions['bl'])\n",
    "    pooled_std['exp_uncorr'] = df_pooled_std(exp_df['uncorr_err'], exp_df['uncorr_count'], num_actions['exp'])\n",
    "    pooled_std['bl_corr'] = df_pooled_std(bl_df['corr_err'], bl_df['corr_count'], num_actions['bl'])\n",
    "    pooled_std['exp_corr'] = df_pooled_std(exp_df['corr_err'], exp_df['corr_count'], num_actions['exp'])\n",
    "    \n",
    "    pooled_mean['bl_uncorr'] = df_pooled_mean(bl_df['uncorr_mean'], bl_df['uncorr_count'])\n",
    "    pooled_mean['exp_uncorr'] = df_pooled_mean(exp_df['uncorr_mean'], exp_df['uncorr_count'])\n",
    "    pooled_mean['bl_corr'] = df_pooled_mean(bl_df['corr_mean'], bl_df['corr_count'])\n",
    "    pooled_mean['exp_corr'] = df_pooled_mean(exp_df['corr_mean'], exp_df['corr_count'])\n",
    "\n",
    "    uncorr_effect_size = cohens_d(pooled_mean['bl_uncorr'], pooled_std['bl_uncorr'], total_count['bl_uncorr'], \n",
    "                          pooled_mean['exp_uncorr'], pooled_std['exp_uncorr'], total_count['exp_uncorr'])\n",
    "    corr_effect_size = cohens_d(pooled_mean['bl_corr'], pooled_std['bl_corr'], total_count['bl_corr'], \n",
    "                          pooled_mean['exp_corr'], pooled_std['exp_corr'], total_count['exp_corr'])\n",
    "    bl_effect_size = cohens_d(pooled_mean['bl_corr'], pooled_std['bl_corr'], total_count['bl_corr'], \n",
    "                          pooled_mean['bl_uncorr'], pooled_std['bl_uncorr'], total_count['bl_uncorr'])\n",
    "    exp_effect_size = cohens_d(pooled_mean['exp_corr'], pooled_std['exp_corr'], total_count['exp_corr'], \n",
    "                          pooled_mean['exp_uncorr'], pooled_std['exp_uncorr'], total_count['exp_uncorr'])\n",
    "\n",
    "    uncorr_p_value = ttest_ind_from_stats(pooled_mean['bl_uncorr'], pooled_std['bl_uncorr'], total_count['bl_uncorr'], \n",
    "                          pooled_mean['exp_uncorr'], pooled_std['exp_uncorr'], total_count['exp_uncorr'])[1]\n",
    "    corr_p_value = ttest_ind_from_stats(pooled_mean['bl_corr'], pooled_std['bl_corr'], total_count['bl_corr'], \n",
    "                          pooled_mean['exp_corr'], pooled_std['exp_corr'], total_count['exp_corr'])[1]\n",
    "    bl_p_value = ttest_ind_from_stats(pooled_mean['bl_uncorr'], pooled_std['bl_uncorr'], total_count['bl_uncorr'], \n",
    "                          pooled_mean['bl_corr'], pooled_std['bl_corr'], total_count['bl_corr'])[1]\n",
    "    exp_p_value = ttest_ind_from_stats(pooled_mean['exp_uncorr'], pooled_std['exp_uncorr'], total_count['exp_uncorr'], \n",
    "                          pooled_mean['exp_corr'], pooled_std['exp_corr'], total_count['exp_corr'])[1]\n",
    "    \n",
    "    results_df['experiment'].append(experiment)\n",
    "    results_df['policy_corr_mean'].append(pooled_mean['exp_corr'])\n",
    "    results_df['policy_uncorr_mean'].append(pooled_mean['exp_uncorr'])\n",
    "    results_df['random_corr_mean'].append(pooled_mean['bl_corr'])\n",
    "    results_df['random_uncorr_mean'].append(pooled_mean['bl_uncorr'])\n",
    "    results_df['policy_corr_std'].append(pooled_std['exp_corr'])\n",
    "    results_df['policy_uncorr_std'].append(pooled_std['exp_uncorr'])\n",
    "    results_df['random_corr_std'].append(pooled_std['bl_corr'])\n",
    "    results_df['random_uncorr_std'].append(pooled_std['bl_uncorr'])\n",
    "    results_df['policy_corr_count'].append(total_count['exp_corr'])\n",
    "    results_df['policy_uncorr_count'].append(total_count['exp_uncorr'])\n",
    "    results_df['random_corr_count'].append(total_count['bl_corr'])\n",
    "    results_df['random_uncorr_count'].append(total_count['bl_uncorr'])\n",
    "    \n",
    "    results_df['policy_corr_se'].append(pooled_std['exp_corr']/np.sqrt(total_count['exp_corr']))\n",
    "    results_df['policy_uncorr_se'].append(pooled_std['exp_uncorr']/np.sqrt(total_count['exp_uncorr']))\n",
    "    results_df['random_corr_se'].append(pooled_std['bl_corr']/np.sqrt(total_count['bl_corr']))\n",
    "    results_df['random_uncorr_se'].append(pooled_std['bl_uncorr']/np.sqrt(total_count['bl_uncorr']))\n",
    "    \n",
    "    results_df['random_effect_size'].append(bl_effect_size)\n",
    "    results_df['policy_effect_size'].append(exp_effect_size)\n",
    "    results_df['corr_effect_size'].append(corr_effect_size)\n",
    "    results_df['uncorr_effect_size'].append(uncorr_effect_size)\n",
    "    results_df['random_p_value'].append(bl_p_value)\n",
    "    results_df['policy_p_value'].append(exp_p_value)\n",
    "    results_df['corr_p_value'].append(corr_p_value)\n",
    "    results_df['uncorr_p_value'].append(uncorr_p_value)\n",
    "\n",
    "local_results_df = pd.DataFrame.from_dict(results_df)\n",
    "local_results_df\n",
    "report_file.close()"
   ]
  },
  {
   "cell_type": "markdown",
   "metadata": {},
   "source": [
    "#### Overall Simulatability\n",
    "We compare the change in <strong>overall</strong> simulatability score for each batch within an experiment. The change in overall simualtability score is weighted for each local explanation shown."
   ]
  },
  {
   "cell_type": "code",
   "execution_count": 19,
   "metadata": {},
   "outputs": [
    {
     "data": {
      "text/plain": [
       "'hm'"
      ]
     },
     "metadata": {},
     "output_type": "display_data"
    },
    {
     "data": {
      "text/plain": [
       "'proto'"
      ]
     },
     "metadata": {},
     "output_type": "display_data"
    },
    {
     "data": {
      "text/plain": [
       "'multi'"
      ]
     },
     "metadata": {},
     "output_type": "display_data"
    },
    {
     "data": {
      "text/html": [
       "<div>\n",
       "<style scoped>\n",
       "    .dataframe tbody tr th:only-of-type {\n",
       "        vertical-align: middle;\n",
       "    }\n",
       "\n",
       "    .dataframe tbody tr th {\n",
       "        vertical-align: top;\n",
       "    }\n",
       "\n",
       "    .dataframe thead th {\n",
       "        text-align: right;\n",
       "    }\n",
       "</style>\n",
       "<table border=\"1\" class=\"dataframe\">\n",
       "  <thead>\n",
       "    <tr style=\"text-align: right;\">\n",
       "      <th></th>\n",
       "      <th>experiment</th>\n",
       "      <th>bl_mean</th>\n",
       "      <th>bl_err</th>\n",
       "      <th>bl_count</th>\n",
       "      <th>exp_mean</th>\n",
       "      <th>exp_err</th>\n",
       "      <th>exp_count</th>\n",
       "      <th>effect_size</th>\n",
       "      <th>p_value</th>\n",
       "    </tr>\n",
       "  </thead>\n",
       "  <tbody>\n",
       "    <tr>\n",
       "      <th>0</th>\n",
       "      <td>hm</td>\n",
       "      <td>1.949724</td>\n",
       "      <td>1.373668</td>\n",
       "      <td>362.0</td>\n",
       "      <td>2.391033</td>\n",
       "      <td>1.448033</td>\n",
       "      <td>368.0</td>\n",
       "      <td>0.016359</td>\n",
       "      <td>0.825160</td>\n",
       "    </tr>\n",
       "    <tr>\n",
       "      <th>1</th>\n",
       "      <td>proto</td>\n",
       "      <td>2.454296</td>\n",
       "      <td>1.478974</td>\n",
       "      <td>291.0</td>\n",
       "      <td>3.757576</td>\n",
       "      <td>1.412621</td>\n",
       "      <td>330.0</td>\n",
       "      <td>0.051189</td>\n",
       "      <td>0.524649</td>\n",
       "    </tr>\n",
       "    <tr>\n",
       "      <th>2</th>\n",
       "      <td>multi</td>\n",
       "      <td>3.095251</td>\n",
       "      <td>1.370956</td>\n",
       "      <td>358.0</td>\n",
       "      <td>3.514697</td>\n",
       "      <td>1.319311</td>\n",
       "      <td>347.0</td>\n",
       "      <td>0.016593</td>\n",
       "      <td>0.825727</td>\n",
       "    </tr>\n",
       "  </tbody>\n",
       "</table>\n",
       "</div>"
      ],
      "text/plain": [
       "  experiment   bl_mean    bl_err  bl_count  exp_mean   exp_err  exp_count  \\\n",
       "0         hm  1.949724  1.373668     362.0  2.391033  1.448033      368.0   \n",
       "1      proto  2.454296  1.478974     291.0  3.757576  1.412621      330.0   \n",
       "2      multi  3.095251  1.370956     358.0  3.514697  1.319311      347.0   \n",
       "\n",
       "   effect_size   p_value  \n",
       "0     0.016359  0.825160  \n",
       "1     0.051189  0.524649  \n",
       "2     0.016593  0.825727  "
      ]
     },
     "metadata": {},
     "output_type": "display_data"
    }
   ],
   "source": [
    "report_file = open(report_filename, 'a')\n",
    "\n",
    "report_file.write(\"-------OVERALL SIMULATABILITY SCORE ACROSS ALL EXPLANATION------------\\n\\n\")\n",
    "\n",
    "results_df = {'experiment': [], \n",
    "              'bl_mean': [], 'bl_err': [], 'bl_count': [], \n",
    "              'exp_mean': [], 'exp_err': [], 'exp_count': [], \n",
    "              'effect_size': [], 'p_value': []}\n",
    "\n",
    "for experiment in experiments:\n",
    "    display(experiment)\n",
    "    df = experiments[experiment].compare_scores_all_actions('sim_score_norm', err='se')\n",
    "        \n",
    "    results_df['experiment'].append(experiment)\n",
    "    results_df['bl_mean'].append(df.iloc[0]['bl_mean'])\n",
    "    results_df['bl_err'].append(df.iloc[0]['bl_err'])\n",
    "    results_df['bl_count'].append(df.iloc[0]['bl_count'])\n",
    "    results_df['exp_mean'].append(df.iloc[0]['exp_mean'])\n",
    "    results_df['exp_err'].append(df.iloc[0]['exp_err'])\n",
    "    results_df['exp_count'].append(df.iloc[0]['exp_count'])\n",
    "    results_df['effect_size'].append(df.iloc[0]['effect_size'])\n",
    "    results_df['p_value'].append(df.iloc[0]['p_value'])\n",
    "    \n",
    "overall_results_df = pd.DataFrame.from_dict(results_df)\n",
    "display(overall_results_df)\n",
    "\n",
    "results_string = overall_results_df.to_string()\n",
    "report_file.write(results_string+\"\\n\\n\")\n",
    "report_file.close()"
   ]
  },
  {
   "cell_type": "markdown",
   "metadata": {},
   "source": [
    "We look at how the <strong>overall</strong> simulatability score were affected by each explanation.  We compare the effect of each explanation when selected by a rule-based policy and when selected by a random policy.\n",
    "\n",
    "NOTE: We can only compare batches with the same explanations."
   ]
  },
  {
   "cell_type": "code",
   "execution_count": 17,
   "metadata": {},
   "outputs": [
    {
     "data": {
      "text/plain": [
       "'hm'"
      ]
     },
     "metadata": {},
     "output_type": "display_data"
    },
    {
     "data": {
      "text/html": [
       "<div>\n",
       "<style scoped>\n",
       "    .dataframe tbody tr th:only-of-type {\n",
       "        vertical-align: middle;\n",
       "    }\n",
       "\n",
       "    .dataframe tbody tr th {\n",
       "        vertical-align: top;\n",
       "    }\n",
       "\n",
       "    .dataframe thead th {\n",
       "        text-align: right;\n",
       "    }\n",
       "</style>\n",
       "<table border=\"1\" class=\"dataframe\">\n",
       "  <thead>\n",
       "    <tr style=\"text-align: right;\">\n",
       "      <th></th>\n",
       "      <th>name</th>\n",
       "      <th>action</th>\n",
       "      <th>bl_mean</th>\n",
       "      <th>bl_err</th>\n",
       "      <th>bl_count</th>\n",
       "      <th>exp_mean</th>\n",
       "      <th>exp_err</th>\n",
       "      <th>exp_count</th>\n",
       "      <th>effect_size</th>\n",
       "      <th>p_value</th>\n",
       "    </tr>\n",
       "  </thead>\n",
       "  <tbody>\n",
       "    <tr>\n",
       "      <th>0</th>\n",
       "      <td>rbp_heatmap_tp</td>\n",
       "      <td>26</td>\n",
       "      <td>4.720879</td>\n",
       "      <td>26.662827</td>\n",
       "      <td>91</td>\n",
       "      <td>4.274545</td>\n",
       "      <td>28.026279</td>\n",
       "      <td>55</td>\n",
       "      <td>0.016420</td>\n",
       "      <td>0.923543</td>\n",
       "    </tr>\n",
       "    <tr>\n",
       "      <th>1</th>\n",
       "      <td>rbp_heatmap_tn</td>\n",
       "      <td>27</td>\n",
       "      <td>3.553846</td>\n",
       "      <td>25.028705</td>\n",
       "      <td>91</td>\n",
       "      <td>1.371717</td>\n",
       "      <td>25.788524</td>\n",
       "      <td>99</td>\n",
       "      <td>0.085817</td>\n",
       "      <td>0.555277</td>\n",
       "    </tr>\n",
       "    <tr>\n",
       "      <th>2</th>\n",
       "      <td>rbp_heatmap_fp</td>\n",
       "      <td>28</td>\n",
       "      <td>-2.451111</td>\n",
       "      <td>30.435898</td>\n",
       "      <td>90</td>\n",
       "      <td>7.691447</td>\n",
       "      <td>28.185976</td>\n",
       "      <td>152</td>\n",
       "      <td>0.349254</td>\n",
       "      <td>0.009198</td>\n",
       "    </tr>\n",
       "    <tr>\n",
       "      <th>3</th>\n",
       "      <td>rbp_heatmap_fn</td>\n",
       "      <td>29</td>\n",
       "      <td>1.926667</td>\n",
       "      <td>21.492297</td>\n",
       "      <td>90</td>\n",
       "      <td>-10.646774</td>\n",
       "      <td>25.775193</td>\n",
       "      <td>62</td>\n",
       "      <td>0.538960</td>\n",
       "      <td>0.001354</td>\n",
       "    </tr>\n",
       "  </tbody>\n",
       "</table>\n",
       "</div>"
      ],
      "text/plain": [
       "             name  action   bl_mean     bl_err  bl_count   exp_mean  \\\n",
       "0  rbp_heatmap_tp      26  4.720879  26.662827        91   4.274545   \n",
       "1  rbp_heatmap_tn      27  3.553846  25.028705        91   1.371717   \n",
       "2  rbp_heatmap_fp      28 -2.451111  30.435898        90   7.691447   \n",
       "3  rbp_heatmap_fn      29  1.926667  21.492297        90 -10.646774   \n",
       "\n",
       "     exp_err  exp_count  effect_size   p_value  \n",
       "0  28.026279         55     0.016420  0.923543  \n",
       "1  25.788524         99     0.085817  0.555277  \n",
       "2  28.185976        152     0.349254  0.009198  \n",
       "3  25.775193         62     0.538960  0.001354  "
      ]
     },
     "metadata": {},
     "output_type": "display_data"
    },
    {
     "data": {
      "text/plain": [
       "'proto'"
      ]
     },
     "metadata": {},
     "output_type": "display_data"
    },
    {
     "data": {
      "text/html": [
       "<div>\n",
       "<style scoped>\n",
       "    .dataframe tbody tr th:only-of-type {\n",
       "        vertical-align: middle;\n",
       "    }\n",
       "\n",
       "    .dataframe tbody tr th {\n",
       "        vertical-align: top;\n",
       "    }\n",
       "\n",
       "    .dataframe thead th {\n",
       "        text-align: right;\n",
       "    }\n",
       "</style>\n",
       "<table border=\"1\" class=\"dataframe\">\n",
       "  <thead>\n",
       "    <tr style=\"text-align: right;\">\n",
       "      <th></th>\n",
       "      <th>name</th>\n",
       "      <th>action</th>\n",
       "      <th>bl_mean</th>\n",
       "      <th>bl_err</th>\n",
       "      <th>bl_count</th>\n",
       "      <th>exp_mean</th>\n",
       "      <th>exp_err</th>\n",
       "      <th>exp_count</th>\n",
       "      <th>effect_size</th>\n",
       "      <th>p_value</th>\n",
       "    </tr>\n",
       "  </thead>\n",
       "  <tbody>\n",
       "    <tr>\n",
       "      <th>0</th>\n",
       "      <td>rbp_prototype_tp</td>\n",
       "      <td>30</td>\n",
       "      <td>9.395946</td>\n",
       "      <td>24.218822</td>\n",
       "      <td>74</td>\n",
       "      <td>16.450000</td>\n",
       "      <td>31.058146</td>\n",
       "      <td>42</td>\n",
       "      <td>0.262430</td>\n",
       "      <td>0.177021</td>\n",
       "    </tr>\n",
       "    <tr>\n",
       "      <th>1</th>\n",
       "      <td>rbp_prototype_tn</td>\n",
       "      <td>31</td>\n",
       "      <td>1.650667</td>\n",
       "      <td>23.909177</td>\n",
       "      <td>75</td>\n",
       "      <td>0.089655</td>\n",
       "      <td>21.975102</td>\n",
       "      <td>87</td>\n",
       "      <td>0.068196</td>\n",
       "      <td>0.665738</td>\n",
       "    </tr>\n",
       "    <tr>\n",
       "      <th>2</th>\n",
       "      <td>rbp_prototype_fp</td>\n",
       "      <td>32</td>\n",
       "      <td>2.995890</td>\n",
       "      <td>27.721499</td>\n",
       "      <td>73</td>\n",
       "      <td>6.865493</td>\n",
       "      <td>23.583770</td>\n",
       "      <td>142</td>\n",
       "      <td>0.154420</td>\n",
       "      <td>0.284829</td>\n",
       "    </tr>\n",
       "    <tr>\n",
       "      <th>3</th>\n",
       "      <td>rbp_prototype_fn</td>\n",
       "      <td>33</td>\n",
       "      <td>-4.689855</td>\n",
       "      <td>23.321085</td>\n",
       "      <td>69</td>\n",
       "      <td>-7.349153</td>\n",
       "      <td>26.445366</td>\n",
       "      <td>59</td>\n",
       "      <td>0.107194</td>\n",
       "      <td>0.546578</td>\n",
       "    </tr>\n",
       "  </tbody>\n",
       "</table>\n",
       "</div>"
      ],
      "text/plain": [
       "               name  action   bl_mean     bl_err  bl_count   exp_mean  \\\n",
       "0  rbp_prototype_tp      30  9.395946  24.218822        74  16.450000   \n",
       "1  rbp_prototype_tn      31  1.650667  23.909177        75   0.089655   \n",
       "2  rbp_prototype_fp      32  2.995890  27.721499        73   6.865493   \n",
       "3  rbp_prototype_fn      33 -4.689855  23.321085        69  -7.349153   \n",
       "\n",
       "     exp_err  exp_count  effect_size   p_value  \n",
       "0  31.058146         42     0.262430  0.177021  \n",
       "1  21.975102         87     0.068196  0.665738  \n",
       "2  23.583770        142     0.154420  0.284829  \n",
       "3  26.445366         59     0.107194  0.546578  "
      ]
     },
     "metadata": {},
     "output_type": "display_data"
    },
    {
     "data": {
      "text/plain": [
       "'multi'"
      ]
     },
     "metadata": {},
     "output_type": "display_data"
    },
    {
     "data": {
      "text/html": [
       "<div>\n",
       "<style scoped>\n",
       "    .dataframe tbody tr th:only-of-type {\n",
       "        vertical-align: middle;\n",
       "    }\n",
       "\n",
       "    .dataframe tbody tr th {\n",
       "        vertical-align: top;\n",
       "    }\n",
       "\n",
       "    .dataframe thead th {\n",
       "        text-align: right;\n",
       "    }\n",
       "</style>\n",
       "<table border=\"1\" class=\"dataframe\">\n",
       "  <thead>\n",
       "    <tr style=\"text-align: right;\">\n",
       "      <th></th>\n",
       "      <th>name</th>\n",
       "      <th>action</th>\n",
       "      <th>bl_mean</th>\n",
       "      <th>bl_err</th>\n",
       "      <th>bl_count</th>\n",
       "      <th>exp_mean</th>\n",
       "      <th>exp_err</th>\n",
       "      <th>exp_count</th>\n",
       "      <th>effect_size</th>\n",
       "      <th>p_value</th>\n",
       "    </tr>\n",
       "  </thead>\n",
       "  <tbody>\n",
       "    <tr>\n",
       "      <th>0</th>\n",
       "      <td>rbp_multi_proto_tp</td>\n",
       "      <td>43</td>\n",
       "      <td>13.050000</td>\n",
       "      <td>28.081381</td>\n",
       "      <td>44</td>\n",
       "      <td>18.460000</td>\n",
       "      <td>36.056420</td>\n",
       "      <td>15</td>\n",
       "      <td>0.178928</td>\n",
       "      <td>0.551914</td>\n",
       "    </tr>\n",
       "    <tr>\n",
       "      <th>1</th>\n",
       "      <td>rbp_multi_proto_tn</td>\n",
       "      <td>44</td>\n",
       "      <td>1.293478</td>\n",
       "      <td>25.754813</td>\n",
       "      <td>46</td>\n",
       "      <td>9.051613</td>\n",
       "      <td>22.559918</td>\n",
       "      <td>31</td>\n",
       "      <td>0.316312</td>\n",
       "      <td>0.177518</td>\n",
       "    </tr>\n",
       "    <tr>\n",
       "      <th>2</th>\n",
       "      <td>rbp_multi_proto_fp</td>\n",
       "      <td>45</td>\n",
       "      <td>-4.374419</td>\n",
       "      <td>24.537766</td>\n",
       "      <td>43</td>\n",
       "      <td>-0.625000</td>\n",
       "      <td>25.165082</td>\n",
       "      <td>72</td>\n",
       "      <td>0.150375</td>\n",
       "      <td>0.436882</td>\n",
       "    </tr>\n",
       "    <tr>\n",
       "      <th>3</th>\n",
       "      <td>rbp_multi_proto_fn</td>\n",
       "      <td>46</td>\n",
       "      <td>3.957447</td>\n",
       "      <td>19.264461</td>\n",
       "      <td>47</td>\n",
       "      <td>-9.517647</td>\n",
       "      <td>26.635391</td>\n",
       "      <td>17</td>\n",
       "      <td>0.629355</td>\n",
       "      <td>0.029820</td>\n",
       "    </tr>\n",
       "    <tr>\n",
       "      <th>4</th>\n",
       "      <td>rbp_multi_hm_tp</td>\n",
       "      <td>47</td>\n",
       "      <td>0.458140</td>\n",
       "      <td>19.869230</td>\n",
       "      <td>43</td>\n",
       "      <td>10.111628</td>\n",
       "      <td>28.324465</td>\n",
       "      <td>43</td>\n",
       "      <td>0.394585</td>\n",
       "      <td>0.070855</td>\n",
       "    </tr>\n",
       "    <tr>\n",
       "      <th>5</th>\n",
       "      <td>rbp_multi_hm_tn</td>\n",
       "      <td>48</td>\n",
       "      <td>6.046667</td>\n",
       "      <td>22.817294</td>\n",
       "      <td>45</td>\n",
       "      <td>2.803571</td>\n",
       "      <td>23.039791</td>\n",
       "      <td>56</td>\n",
       "      <td>0.141366</td>\n",
       "      <td>0.481767</td>\n",
       "    </tr>\n",
       "    <tr>\n",
       "      <th>6</th>\n",
       "      <td>rbp_multi_hm_fn</td>\n",
       "      <td>49</td>\n",
       "      <td>-0.268889</td>\n",
       "      <td>22.415050</td>\n",
       "      <td>45</td>\n",
       "      <td>-3.603226</td>\n",
       "      <td>22.396555</td>\n",
       "      <td>31</td>\n",
       "      <td>0.148804</td>\n",
       "      <td>0.525752</td>\n",
       "    </tr>\n",
       "    <tr>\n",
       "      <th>7</th>\n",
       "      <td>rbp_multi_hm_fp</td>\n",
       "      <td>50</td>\n",
       "      <td>4.373333</td>\n",
       "      <td>38.222955</td>\n",
       "      <td>45</td>\n",
       "      <td>4.741463</td>\n",
       "      <td>18.999337</td>\n",
       "      <td>82</td>\n",
       "      <td>0.013459</td>\n",
       "      <td>0.942284</td>\n",
       "    </tr>\n",
       "  </tbody>\n",
       "</table>\n",
       "</div>"
      ],
      "text/plain": [
       "                 name  action    bl_mean     bl_err  bl_count   exp_mean  \\\n",
       "0  rbp_multi_proto_tp      43  13.050000  28.081381        44  18.460000   \n",
       "1  rbp_multi_proto_tn      44   1.293478  25.754813        46   9.051613   \n",
       "2  rbp_multi_proto_fp      45  -4.374419  24.537766        43  -0.625000   \n",
       "3  rbp_multi_proto_fn      46   3.957447  19.264461        47  -9.517647   \n",
       "4     rbp_multi_hm_tp      47   0.458140  19.869230        43  10.111628   \n",
       "5     rbp_multi_hm_tn      48   6.046667  22.817294        45   2.803571   \n",
       "6     rbp_multi_hm_fn      49  -0.268889  22.415050        45  -3.603226   \n",
       "7     rbp_multi_hm_fp      50   4.373333  38.222955        45   4.741463   \n",
       "\n",
       "     exp_err  exp_count  effect_size   p_value  \n",
       "0  36.056420         15     0.178928  0.551914  \n",
       "1  22.559918         31     0.316312  0.177518  \n",
       "2  25.165082         72     0.150375  0.436882  \n",
       "3  26.635391         17     0.629355  0.029820  \n",
       "4  28.324465         43     0.394585  0.070855  \n",
       "5  23.039791         56     0.141366  0.481767  \n",
       "6  22.396555         31     0.148804  0.525752  \n",
       "7  18.999337         82     0.013459  0.942284  "
      ]
     },
     "metadata": {},
     "output_type": "display_data"
    }
   ],
   "source": [
    "report_file = open(report_filename,'a')\n",
    "report_file.write(\"-------OVERALL SIMULATABILITY SCORE PER LOCAL EXPLANATION------------\\n\\n\")\n",
    "\n",
    "for experiment in ['hm', 'proto', 'multi']:\n",
    "    display(experiment)\n",
    "    df = experiments[experiment].compare_scores_per_action('sim_score_norm')\n",
    "    \n",
    "    df_string = df.to_string()\n",
    "    report_file.write(experiment+\"\\n\")\n",
    "    report_file.write(df_string+\"\\n\\n\")\n",
    "    \n",
    "    display(df)\n",
    "    \n",
    "report_file.close()"
   ]
  },
  {
   "cell_type": "markdown",
   "metadata": {},
   "source": [
    "#### Combining Local and Overall Simulatability Scores\n",
    "We combine the tables `local_results_df` and `overall_results_df` and calculate the p-value between them."
   ]
  },
  {
   "cell_type": "code",
   "execution_count": 18,
   "metadata": {},
   "outputs": [
    {
     "data": {
      "text/html": [
       "<div>\n",
       "<style scoped>\n",
       "    .dataframe tbody tr th:only-of-type {\n",
       "        vertical-align: middle;\n",
       "    }\n",
       "\n",
       "    .dataframe tbody tr th {\n",
       "        vertical-align: top;\n",
       "    }\n",
       "\n",
       "    .dataframe thead th {\n",
       "        text-align: right;\n",
       "    }\n",
       "</style>\n",
       "<table border=\"1\" class=\"dataframe\">\n",
       "  <thead>\n",
       "    <tr style=\"text-align: right;\">\n",
       "      <th></th>\n",
       "      <th>experiment</th>\n",
       "      <th>policy_corr_mean</th>\n",
       "      <th>random_corr_mean</th>\n",
       "      <th>policy_corr_std</th>\n",
       "      <th>random_corr_std</th>\n",
       "      <th>policy_corr_se</th>\n",
       "      <th>random_corr_se</th>\n",
       "      <th>policy_corr_count</th>\n",
       "      <th>random_corr_count</th>\n",
       "      <th>bl_mean</th>\n",
       "      <th>bl_err</th>\n",
       "      <th>bl_count</th>\n",
       "      <th>exp_mean</th>\n",
       "      <th>exp_err</th>\n",
       "      <th>exp_count</th>\n",
       "      <th>policy_p</th>\n",
       "      <th>random_p</th>\n",
       "    </tr>\n",
       "  </thead>\n",
       "  <tbody>\n",
       "    <tr>\n",
       "      <th>0</th>\n",
       "      <td>hm</td>\n",
       "      <td>11.005163</td>\n",
       "      <td>3.382597</td>\n",
       "      <td>15.212573</td>\n",
       "      <td>15.971281</td>\n",
       "      <td>0.793010</td>\n",
       "      <td>0.839432</td>\n",
       "      <td>368</td>\n",
       "      <td>362</td>\n",
       "      <td>1.949724</td>\n",
       "      <td>1.373668</td>\n",
       "      <td>362.0</td>\n",
       "      <td>2.391033</td>\n",
       "      <td>1.448033</td>\n",
       "      <td>368.0</td>\n",
       "      <td>2.160662e-25</td>\n",
       "      <td>0.089434</td>\n",
       "    </tr>\n",
       "    <tr>\n",
       "      <th>1</th>\n",
       "      <td>proto</td>\n",
       "      <td>10.653939</td>\n",
       "      <td>3.688660</td>\n",
       "      <td>15.787344</td>\n",
       "      <td>13.418858</td>\n",
       "      <td>0.869065</td>\n",
       "      <td>0.786627</td>\n",
       "      <td>330</td>\n",
       "      <td>291</td>\n",
       "      <td>2.454296</td>\n",
       "      <td>1.478974</td>\n",
       "      <td>291.0</td>\n",
       "      <td>3.757576</td>\n",
       "      <td>1.412621</td>\n",
       "      <td>330.0</td>\n",
       "      <td>1.141848e-14</td>\n",
       "      <td>0.119367</td>\n",
       "    </tr>\n",
       "    <tr>\n",
       "      <th>2</th>\n",
       "      <td>multi</td>\n",
       "      <td>9.822478</td>\n",
       "      <td>3.231844</td>\n",
       "      <td>14.381298</td>\n",
       "      <td>16.708573</td>\n",
       "      <td>0.772029</td>\n",
       "      <td>0.883076</td>\n",
       "      <td>347</td>\n",
       "      <td>358</td>\n",
       "      <td>3.095251</td>\n",
       "      <td>1.370956</td>\n",
       "      <td>358.0</td>\n",
       "      <td>3.514697</td>\n",
       "      <td>1.319311</td>\n",
       "      <td>347.0</td>\n",
       "      <td>1.891223e-15</td>\n",
       "      <td>0.877527</td>\n",
       "    </tr>\n",
       "  </tbody>\n",
       "</table>\n",
       "</div>"
      ],
      "text/plain": [
       "  experiment  policy_corr_mean  random_corr_mean  policy_corr_std  \\\n",
       "0         hm         11.005163          3.382597        15.212573   \n",
       "1      proto         10.653939          3.688660        15.787344   \n",
       "2      multi          9.822478          3.231844        14.381298   \n",
       "\n",
       "   random_corr_std  policy_corr_se  random_corr_se  policy_corr_count  \\\n",
       "0        15.971281        0.793010        0.839432                368   \n",
       "1        13.418858        0.869065        0.786627                330   \n",
       "2        16.708573        0.772029        0.883076                347   \n",
       "\n",
       "   random_corr_count   bl_mean    bl_err  bl_count  exp_mean   exp_err  \\\n",
       "0                362  1.949724  1.373668     362.0  2.391033  1.448033   \n",
       "1                291  2.454296  1.478974     291.0  3.757576  1.412621   \n",
       "2                358  3.095251  1.370956     358.0  3.514697  1.319311   \n",
       "\n",
       "   exp_count      policy_p  random_p  \n",
       "0      368.0  2.160662e-25  0.089434  \n",
       "1      330.0  1.141848e-14  0.119367  \n",
       "2      347.0  1.891223e-15  0.877527  "
      ]
     },
     "metadata": {},
     "output_type": "display_data"
    }
   ],
   "source": [
    "local_cols = ['experiment','policy_corr_mean', 'random_corr_mean', 'policy_corr_std', 'random_corr_std', \n",
    "              'policy_corr_se', 'random_corr_se', 'policy_corr_count', 'random_corr_count']\n",
    "overall_cols = ['bl_mean', 'bl_err', 'bl_count', 'exp_mean', 'exp_err', 'exp_count']\n",
    "\n",
    "combined_results_df = pd.concat([local_results_df[local_cols], overall_results_df[overall_cols]], axis=1)\n",
    "combined_results_df['policy_p'] = ttest_ind_from_stats(combined_results_df['policy_corr_mean'],\n",
    "                                                      combined_results_df['policy_corr_std'],\n",
    "                                                      combined_results_df['policy_corr_count'],\n",
    "                                                      combined_results_df['exp_mean'],\n",
    "                                                      combined_results_df['exp_err'],\n",
    "                                                      combined_results_df['exp_count'])[1]\n",
    "combined_results_df['random_p'] = ttest_ind_from_stats(combined_results_df['random_corr_mean'],\n",
    "                                                      combined_results_df['random_corr_std'],\n",
    "                                                      combined_results_df['random_corr_count'],\n",
    "                                                      combined_results_df['bl_mean'],\n",
    "                                                      combined_results_df['bl_err'],\n",
    "                                                      combined_results_df['bl_count'])[1]\n",
    "\n",
    "display(combined_results_df)\n",
    "\n",
    "report_file = open(report_filename,'a')\n",
    "report_file.write(\"-------SUMMARY SIMULATABILITY------------\\n\\n\")\n",
    "combined_string = combined_results_df.to_string()\n",
    "report_file.write(combined_string+\"\\n\")\n",
    "report_file.close()"
   ]
  }
 ],
 "metadata": {
  "kernelspec": {
   "display_name": "Python 3",
   "language": "python",
   "name": "python3"
  },
  "language_info": {
   "codemirror_mode": {
    "name": "ipython",
    "version": 3
   },
   "file_extension": ".py",
   "mimetype": "text/x-python",
   "name": "python",
   "nbconvert_exporter": "python",
   "pygments_lexer": "ipython3",
   "version": "3.7.3"
  }
 },
 "nbformat": 4,
 "nbformat_minor": 2
}
